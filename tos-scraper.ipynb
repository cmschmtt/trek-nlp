{
 "cells": [
  {
   "cell_type": "code",
   "execution_count": 1,
   "metadata": {
    "collapsed": true
   },
   "outputs": [],
   "source": [
    "from bs4 import BeautifulSoup, NavigableString, Tag\n",
    "import urllib\n",
    "import requests\n",
    "import re\n",
    "import nltk\n",
    "import time\n",
    "\n",
    "import pandas as pd"
   ]
  },
  {
   "cell_type": "code",
   "execution_count": 2,
   "metadata": {
    "collapsed": true
   },
   "outputs": [],
   "source": [
    "scr = []\n",
    "# 101,576\n",
    "for ep in range(1,80):\n",
    "    url = \"http://www.chakoteya.net/StarTrek/{}.htm\".format(ep)\n",
    "    try:\n",
    "        scr.append(urllib.request.urlopen(url).read())\n",
    "        time.sleep(3)\n",
    "    except urllib.request.HTTPError as err:\n",
    "        if err.code == 404:\n",
    "            pass"
   ]
  },
  {
   "cell_type": "code",
   "execution_count": 6,
   "metadata": {},
   "outputs": [],
   "source": [
    "many_soups = []\n",
    "for ep in scr:\n",
    "    many_soups.append(BeautifulSoup(ep, \"lxml\"))"
   ]
  },
  {
   "cell_type": "code",
   "execution_count": 7,
   "metadata": {},
   "outputs": [
    {
     "data": {
      "text/plain": [
       "'The\\r\\nCage'"
      ]
     },
     "execution_count": 7,
     "metadata": {},
     "output_type": "execute_result"
    }
   ],
   "source": [
    "many_soups[0].b.string"
   ]
  },
  {
   "cell_type": "code",
   "execution_count": 9,
   "metadata": {},
   "outputs": [
    {
     "data": {
      "text/plain": [
       "79"
      ]
     },
     "execution_count": 9,
     "metadata": {},
     "output_type": "execute_result"
    }
   ],
   "source": [
    "len(many_soups)"
   ]
  },
  {
   "cell_type": "code",
   "execution_count": 10,
   "metadata": {
    "collapsed": true
   },
   "outputs": [],
   "source": [
    "sent_tokenizer = nltk.tokenize.sent_tokenize\n",
    "pattern = re.compile(r'(\\b[A-Z]+|([A-Z]+.[A-Z]+))(\\:|\\s\\[.+\\]\\:)')\n",
    "df = pd.DataFrame(columns=['character', 'ep_title', 'text'])"
   ]
  },
  {
   "cell_type": "code",
   "execution_count": 11,
   "metadata": {
    "collapsed": true
   },
   "outputs": [],
   "source": [
    "for ep in many_soups:\n",
    "    \n",
    "    episode_title = ep.b.string\n",
    "    episode_title = episode_title.replace('\\r\\n', ' ')\n",
    "    \n",
    "    array_of_strings = []\n",
    "    \n",
    "    for string in ep.stripped_strings:\n",
    "        array_of_strings.append(string.replace('\\r\\n', ' '))\n",
    "        \n",
    "    clean_df = []\n",
    "    char_dict = {}\n",
    "\n",
    "    for string in array_of_strings:\n",
    "        found = re.search(pattern, string)\n",
    "        if found is not None:\n",
    "            stripped_string = string.replace(found.group(0), '').strip()\n",
    "            stripped_string_tokenized = sent_tokenizer(stripped_string)\n",
    "\n",
    "            key = found.group(1)\n",
    "\n",
    "            for each in stripped_string_tokenized:\n",
    "                    clean_df.append(each)\n",
    "                    char_dict.setdefault(key, []).append(each)\n",
    "    \n",
    "    for key in char_dict:\n",
    "        temp_df = pd.DataFrame(char_dict[key], columns=['text'])\n",
    "        temp_df['character'] = key\n",
    "        temp_df['ep_title'] = episode_title\n",
    "        df = df.append(temp_df)"
   ]
  },
  {
   "cell_type": "code",
   "execution_count": 12,
   "metadata": {},
   "outputs": [
    {
     "data": {
      "text/html": [
       "<div>\n",
       "<style>\n",
       "    .dataframe thead tr:only-child th {\n",
       "        text-align: right;\n",
       "    }\n",
       "\n",
       "    .dataframe thead th {\n",
       "        text-align: left;\n",
       "    }\n",
       "\n",
       "    .dataframe tbody tr th {\n",
       "        vertical-align: top;\n",
       "    }\n",
       "</style>\n",
       "<table border=\"1\" class=\"dataframe\">\n",
       "  <thead>\n",
       "    <tr style=\"text-align: right;\">\n",
       "      <th></th>\n",
       "      <th>character</th>\n",
       "      <th>ep_title</th>\n",
       "      <th>text</th>\n",
       "    </tr>\n",
       "  </thead>\n",
       "  <tbody>\n",
       "    <tr>\n",
       "      <th>0</th>\n",
       "      <td>SPOCK</td>\n",
       "      <td>The Cage</td>\n",
       "      <td>Check the circuit.</td>\n",
       "    </tr>\n",
       "    <tr>\n",
       "      <th>1</th>\n",
       "      <td>SPOCK</td>\n",
       "      <td>The Cage</td>\n",
       "      <td>It can't be the screen then.</td>\n",
       "    </tr>\n",
       "    <tr>\n",
       "      <th>2</th>\n",
       "      <td>SPOCK</td>\n",
       "      <td>The Cage</td>\n",
       "      <td>Definitely something out there, Captain, heade...</td>\n",
       "    </tr>\n",
       "    <tr>\n",
       "      <th>3</th>\n",
       "      <td>SPOCK</td>\n",
       "      <td>The Cage</td>\n",
       "      <td>Their call letters check with a survey expedit...</td>\n",
       "    </tr>\n",
       "    <tr>\n",
       "      <th>4</th>\n",
       "      <td>SPOCK</td>\n",
       "      <td>The Cage</td>\n",
       "      <td>SS Columbia.</td>\n",
       "    </tr>\n",
       "  </tbody>\n",
       "</table>\n",
       "</div>"
      ],
      "text/plain": [
       "  character  ep_title                                               text\n",
       "0     SPOCK  The Cage                                 Check the circuit.\n",
       "1     SPOCK  The Cage                       It can't be the screen then.\n",
       "2     SPOCK  The Cage  Definitely something out there, Captain, heade...\n",
       "3     SPOCK  The Cage  Their call letters check with a survey expedit...\n",
       "4     SPOCK  The Cage                                       SS Columbia."
      ]
     },
     "execution_count": 12,
     "metadata": {},
     "output_type": "execute_result"
    }
   ],
   "source": [
    "df.head()"
   ]
  },
  {
   "cell_type": "code",
   "execution_count": 13,
   "metadata": {},
   "outputs": [
    {
     "data": {
      "text/html": [
       "<div>\n",
       "<style>\n",
       "    .dataframe thead tr:only-child th {\n",
       "        text-align: right;\n",
       "    }\n",
       "\n",
       "    .dataframe thead th {\n",
       "        text-align: left;\n",
       "    }\n",
       "\n",
       "    .dataframe tbody tr th {\n",
       "        vertical-align: top;\n",
       "    }\n",
       "</style>\n",
       "<table border=\"1\" class=\"dataframe\">\n",
       "  <thead>\n",
       "    <tr style=\"text-align: right;\">\n",
       "      <th></th>\n",
       "      <th>character</th>\n",
       "      <th>ep_title</th>\n",
       "      <th>text</th>\n",
       "    </tr>\n",
       "  </thead>\n",
       "  <tbody>\n",
       "    <tr>\n",
       "      <th>count</th>\n",
       "      <td>54047</td>\n",
       "      <td>54047</td>\n",
       "      <td>54047</td>\n",
       "    </tr>\n",
       "    <tr>\n",
       "      <th>unique</th>\n",
       "      <td>436</td>\n",
       "      <td>79</td>\n",
       "      <td>45795</td>\n",
       "    </tr>\n",
       "    <tr>\n",
       "      <th>top</th>\n",
       "      <td>KIRK</td>\n",
       "      <td>A Piece Of The Action</td>\n",
       "      <td>Yes.</td>\n",
       "    </tr>\n",
       "    <tr>\n",
       "      <th>freq</th>\n",
       "      <td>17001</td>\n",
       "      <td>882</td>\n",
       "      <td>287</td>\n",
       "    </tr>\n",
       "  </tbody>\n",
       "</table>\n",
       "</div>"
      ],
      "text/plain": [
       "       character               ep_title   text\n",
       "count      54047                  54047  54047\n",
       "unique       436                     79  45795\n",
       "top         KIRK  A Piece Of The Action   Yes.\n",
       "freq       17001                    882    287"
      ]
     },
     "execution_count": 13,
     "metadata": {},
     "output_type": "execute_result"
    }
   ],
   "source": [
    "df.describe()"
   ]
  },
  {
   "cell_type": "code",
   "execution_count": 14,
   "metadata": {
    "collapsed": true
   },
   "outputs": [],
   "source": [
    "df.to_csv('dataframe_all_tos.csv', index=False)"
   ]
  },
  {
   "cell_type": "code",
   "execution_count": 15,
   "metadata": {
    "collapsed": true
   },
   "outputs": [],
   "source": [
    "df_test = pd.read_csv('./dataframe_all_tos.csv')"
   ]
  },
  {
   "cell_type": "code",
   "execution_count": 16,
   "metadata": {},
   "outputs": [
    {
     "data": {
      "text/html": [
       "<div>\n",
       "<style>\n",
       "    .dataframe thead tr:only-child th {\n",
       "        text-align: right;\n",
       "    }\n",
       "\n",
       "    .dataframe thead th {\n",
       "        text-align: left;\n",
       "    }\n",
       "\n",
       "    .dataframe tbody tr th {\n",
       "        vertical-align: top;\n",
       "    }\n",
       "</style>\n",
       "<table border=\"1\" class=\"dataframe\">\n",
       "  <thead>\n",
       "    <tr style=\"text-align: right;\">\n",
       "      <th></th>\n",
       "      <th>character</th>\n",
       "      <th>ep_title</th>\n",
       "      <th>text</th>\n",
       "    </tr>\n",
       "  </thead>\n",
       "  <tbody>\n",
       "    <tr>\n",
       "      <th>0</th>\n",
       "      <td>SPOCK</td>\n",
       "      <td>The Cage</td>\n",
       "      <td>Check the circuit.</td>\n",
       "    </tr>\n",
       "    <tr>\n",
       "      <th>1</th>\n",
       "      <td>SPOCK</td>\n",
       "      <td>The Cage</td>\n",
       "      <td>It can't be the screen then.</td>\n",
       "    </tr>\n",
       "    <tr>\n",
       "      <th>2</th>\n",
       "      <td>SPOCK</td>\n",
       "      <td>The Cage</td>\n",
       "      <td>Definitely something out there, Captain, heade...</td>\n",
       "    </tr>\n",
       "    <tr>\n",
       "      <th>3</th>\n",
       "      <td>SPOCK</td>\n",
       "      <td>The Cage</td>\n",
       "      <td>Their call letters check with a survey expedit...</td>\n",
       "    </tr>\n",
       "    <tr>\n",
       "      <th>4</th>\n",
       "      <td>SPOCK</td>\n",
       "      <td>The Cage</td>\n",
       "      <td>SS Columbia.</td>\n",
       "    </tr>\n",
       "  </tbody>\n",
       "</table>\n",
       "</div>"
      ],
      "text/plain": [
       "  character  ep_title                                               text\n",
       "0     SPOCK  The Cage                                 Check the circuit.\n",
       "1     SPOCK  The Cage                       It can't be the screen then.\n",
       "2     SPOCK  The Cage  Definitely something out there, Captain, heade...\n",
       "3     SPOCK  The Cage  Their call letters check with a survey expedit...\n",
       "4     SPOCK  The Cage                                       SS Columbia."
      ]
     },
     "execution_count": 16,
     "metadata": {},
     "output_type": "execute_result"
    }
   ],
   "source": [
    "df_test.head()"
   ]
  },
  {
   "cell_type": "code",
   "execution_count": null,
   "metadata": {
    "collapsed": true
   },
   "outputs": [],
   "source": []
  }
 ],
 "metadata": {
  "kernelspec": {
   "display_name": "Python 3",
   "language": "python",
   "name": "python3"
  },
  "language_info": {
   "codemirror_mode": {
    "name": "ipython",
    "version": 3
   },
   "file_extension": ".py",
   "mimetype": "text/x-python",
   "name": "python",
   "nbconvert_exporter": "python",
   "pygments_lexer": "ipython3",
   "version": "3.6.1"
  }
 },
 "nbformat": 4,
 "nbformat_minor": 2
}
