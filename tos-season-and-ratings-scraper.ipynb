{
 "cells": [
  {
   "cell_type": "code",
   "execution_count": 1,
   "metadata": {
    "collapsed": true
   },
   "outputs": [],
   "source": [
    "from bs4 import BeautifulSoup, NavigableString, Tag\n",
    "import urllib\n",
    "import requests\n",
    "import re\n",
    "import nltk\n",
    "import datetime\n",
    "import re\n",
    "\n",
    "import pandas as pd"
   ]
  },
  {
   "cell_type": "code",
   "execution_count": 2,
   "metadata": {
    "collapsed": true
   },
   "outputs": [],
   "source": [
    "scr = []"
   ]
  },
  {
   "cell_type": "code",
   "execution_count": 3,
   "metadata": {
    "collapsed": true
   },
   "outputs": [],
   "source": [
    "for i in range(1, 4):\n",
    "    request = requests.get('http://www.imdb.com/title/tt0060028/episodes?season={}'.format(i))\n",
    "    scr.append(request)"
   ]
  },
  {
   "cell_type": "code",
   "execution_count": 4,
   "metadata": {},
   "outputs": [
    {
     "data": {
      "text/plain": [
       "[<Response [200]>, <Response [200]>, <Response [200]>]"
      ]
     },
     "execution_count": 4,
     "metadata": {},
     "output_type": "execute_result"
    }
   ],
   "source": [
    "scr"
   ]
  },
  {
   "cell_type": "code",
   "execution_count": 5,
   "metadata": {
    "collapsed": true
   },
   "outputs": [],
   "source": [
    "many_soups = []\n",
    "for ep in scr:\n",
    "    many_soups.append(BeautifulSoup(ep.content, \"lxml\"))"
   ]
  },
  {
   "cell_type": "code",
   "execution_count": 6,
   "metadata": {
    "collapsed": true
   },
   "outputs": [],
   "source": [
    "ep_name_list = []\n",
    "number_list = []\n",
    "date_list = []\n",
    "rating_list = []\n",
    "season_number_list = []\n",
    "\n",
    "for season in many_soups:\n",
    "    # Gets season number\n",
    "    season_tag = season.find('h3',{'id': 'episode_top'})\n",
    "    season_tag_text = season_tag.text.replace(u'\\xa0', u' ')\n",
    "    pattern = re.compile(r'[0-9]')\n",
    "    season_number = re.search(pattern, season_tag_text)\n",
    "    season_number = season_number.group(0) \n",
    "    \n",
    "    for ep in season.find_all('div', {'class': 'info'}):\n",
    "        # append ep_name\n",
    "        ep_name = ep.find('a', {'itemprop': 'name'}).text\n",
    "        ep_name_list.append(ep_name)\n",
    "        \n",
    "        # append ep number\n",
    "        number = ep.find('meta')\n",
    "        number = number.attrs['content']\n",
    "        number = int(number)\n",
    "        number_list.append(number)\n",
    "\n",
    "        # append airdate\n",
    "        date = ep.find('div', {'class': 'airdate'}).contents[0].strip()\n",
    "        date_list.append(date)\n",
    "\n",
    "        # append rating\n",
    "        rating = ep.find('span', {'class': 'ipl-rating-star__rating'}).text\n",
    "        rating = float(rating)\n",
    "        rating_list.append(rating)\n",
    "        \n",
    "        season_number_list.append(season_number)"
   ]
  },
  {
   "cell_type": "code",
   "execution_count": 7,
   "metadata": {
    "collapsed": true
   },
   "outputs": [],
   "source": [
    "imdb_data = pd.DataFrame(\n",
    "    {'season': season_number_list,\n",
    "     'number': number_list,\n",
    "    'ep_name': ep_name_list,\n",
    "    'rating': rating_list,\n",
    "     'airdate': date_list,\n",
    "    })"
   ]
  },
  {
   "cell_type": "code",
   "execution_count": 9,
   "metadata": {},
   "outputs": [
    {
     "data": {
      "text/html": [
       "<div>\n",
       "<style>\n",
       "    .dataframe thead tr:only-child th {\n",
       "        text-align: right;\n",
       "    }\n",
       "\n",
       "    .dataframe thead th {\n",
       "        text-align: left;\n",
       "    }\n",
       "\n",
       "    .dataframe tbody tr th {\n",
       "        vertical-align: top;\n",
       "    }\n",
       "</style>\n",
       "<table border=\"1\" class=\"dataframe\">\n",
       "  <thead>\n",
       "    <tr style=\"text-align: right;\">\n",
       "      <th></th>\n",
       "      <th>number</th>\n",
       "      <th>rating</th>\n",
       "    </tr>\n",
       "  </thead>\n",
       "  <tbody>\n",
       "    <tr>\n",
       "      <th>count</th>\n",
       "      <td>80.000000</td>\n",
       "      <td>80.000000</td>\n",
       "    </tr>\n",
       "    <tr>\n",
       "      <th>mean</th>\n",
       "      <td>13.575000</td>\n",
       "      <td>7.497500</td>\n",
       "    </tr>\n",
       "    <tr>\n",
       "      <th>std</th>\n",
       "      <td>7.886497</td>\n",
       "      <td>0.832105</td>\n",
       "    </tr>\n",
       "    <tr>\n",
       "      <th>min</th>\n",
       "      <td>0.000000</td>\n",
       "      <td>5.200000</td>\n",
       "    </tr>\n",
       "    <tr>\n",
       "      <th>25%</th>\n",
       "      <td>7.000000</td>\n",
       "      <td>7.000000</td>\n",
       "    </tr>\n",
       "    <tr>\n",
       "      <th>50%</th>\n",
       "      <td>13.500000</td>\n",
       "      <td>7.500000</td>\n",
       "    </tr>\n",
       "    <tr>\n",
       "      <th>75%</th>\n",
       "      <td>20.000000</td>\n",
       "      <td>8.000000</td>\n",
       "    </tr>\n",
       "    <tr>\n",
       "      <th>max</th>\n",
       "      <td>29.000000</td>\n",
       "      <td>9.300000</td>\n",
       "    </tr>\n",
       "  </tbody>\n",
       "</table>\n",
       "</div>"
      ],
      "text/plain": [
       "          number     rating\n",
       "count  80.000000  80.000000\n",
       "mean   13.575000   7.497500\n",
       "std     7.886497   0.832105\n",
       "min     0.000000   5.200000\n",
       "25%     7.000000   7.000000\n",
       "50%    13.500000   7.500000\n",
       "75%    20.000000   8.000000\n",
       "max    29.000000   9.300000"
      ]
     },
     "execution_count": 9,
     "metadata": {},
     "output_type": "execute_result"
    }
   ],
   "source": [
    "imdb_data.describe()"
   ]
  },
  {
   "cell_type": "code",
   "execution_count": 10,
   "metadata": {
    "collapsed": true
   },
   "outputs": [],
   "source": [
    "imdb_data['index'] = list(range(1, 81))"
   ]
  },
  {
   "cell_type": "code",
   "execution_count": 12,
   "metadata": {},
   "outputs": [
    {
     "data": {
      "text/html": [
       "<div>\n",
       "<style>\n",
       "    .dataframe thead tr:only-child th {\n",
       "        text-align: right;\n",
       "    }\n",
       "\n",
       "    .dataframe thead th {\n",
       "        text-align: left;\n",
       "    }\n",
       "\n",
       "    .dataframe tbody tr th {\n",
       "        vertical-align: top;\n",
       "    }\n",
       "</style>\n",
       "<table border=\"1\" class=\"dataframe\">\n",
       "  <thead>\n",
       "    <tr style=\"text-align: right;\">\n",
       "      <th></th>\n",
       "      <th>airdate</th>\n",
       "      <th>ep_name</th>\n",
       "      <th>number</th>\n",
       "      <th>rating</th>\n",
       "      <th>season</th>\n",
       "      <th>index</th>\n",
       "    </tr>\n",
       "  </thead>\n",
       "  <tbody>\n",
       "    <tr>\n",
       "      <th>0</th>\n",
       "      <td>27 Nov. 1988</td>\n",
       "      <td>The Cage</td>\n",
       "      <td>0</td>\n",
       "      <td>7.7</td>\n",
       "      <td>1</td>\n",
       "      <td>1</td>\n",
       "    </tr>\n",
       "    <tr>\n",
       "      <th>1</th>\n",
       "      <td>8 Sep. 1966</td>\n",
       "      <td>The Man Trap</td>\n",
       "      <td>1</td>\n",
       "      <td>7.3</td>\n",
       "      <td>1</td>\n",
       "      <td>2</td>\n",
       "    </tr>\n",
       "    <tr>\n",
       "      <th>2</th>\n",
       "      <td>15 Sep. 1966</td>\n",
       "      <td>Charlie X</td>\n",
       "      <td>2</td>\n",
       "      <td>7.2</td>\n",
       "      <td>1</td>\n",
       "      <td>3</td>\n",
       "    </tr>\n",
       "    <tr>\n",
       "      <th>3</th>\n",
       "      <td>22 Sep. 1966</td>\n",
       "      <td>Where No Man Has Gone Before</td>\n",
       "      <td>3</td>\n",
       "      <td>7.8</td>\n",
       "      <td>1</td>\n",
       "      <td>4</td>\n",
       "    </tr>\n",
       "    <tr>\n",
       "      <th>4</th>\n",
       "      <td>29 Sep. 1966</td>\n",
       "      <td>The Naked Time</td>\n",
       "      <td>4</td>\n",
       "      <td>8.0</td>\n",
       "      <td>1</td>\n",
       "      <td>5</td>\n",
       "    </tr>\n",
       "  </tbody>\n",
       "</table>\n",
       "</div>"
      ],
      "text/plain": [
       "        airdate                       ep_name  number  rating season  index\n",
       "0  27 Nov. 1988                      The Cage       0     7.7      1      1\n",
       "1   8 Sep. 1966                  The Man Trap       1     7.3      1      2\n",
       "2  15 Sep. 1966                     Charlie X       2     7.2      1      3\n",
       "3  22 Sep. 1966  Where No Man Has Gone Before       3     7.8      1      4\n",
       "4  29 Sep. 1966                The Naked Time       4     8.0      1      5"
      ]
     },
     "execution_count": 12,
     "metadata": {},
     "output_type": "execute_result"
    }
   ],
   "source": [
    "imdb_data.head()"
   ]
  },
  {
   "cell_type": "code",
   "execution_count": 13,
   "metadata": {},
   "outputs": [
    {
     "data": {
      "text/html": [
       "<div>\n",
       "<style>\n",
       "    .dataframe thead tr:only-child th {\n",
       "        text-align: right;\n",
       "    }\n",
       "\n",
       "    .dataframe thead th {\n",
       "        text-align: left;\n",
       "    }\n",
       "\n",
       "    .dataframe tbody tr th {\n",
       "        vertical-align: top;\n",
       "    }\n",
       "</style>\n",
       "<table border=\"1\" class=\"dataframe\">\n",
       "  <thead>\n",
       "    <tr style=\"text-align: right;\">\n",
       "      <th></th>\n",
       "      <th>airdate</th>\n",
       "      <th>ep_name</th>\n",
       "      <th>number</th>\n",
       "      <th>rating</th>\n",
       "      <th>season</th>\n",
       "      <th>index</th>\n",
       "    </tr>\n",
       "  </thead>\n",
       "  <tbody>\n",
       "    <tr>\n",
       "      <th>75</th>\n",
       "      <td>21 Feb. 1969</td>\n",
       "      <td>The Way to Eden</td>\n",
       "      <td>20</td>\n",
       "      <td>5.5</td>\n",
       "      <td>3</td>\n",
       "      <td>76</td>\n",
       "    </tr>\n",
       "    <tr>\n",
       "      <th>76</th>\n",
       "      <td>28 Feb. 1969</td>\n",
       "      <td>The Cloud Minders</td>\n",
       "      <td>21</td>\n",
       "      <td>7.0</td>\n",
       "      <td>3</td>\n",
       "      <td>77</td>\n",
       "    </tr>\n",
       "    <tr>\n",
       "      <th>77</th>\n",
       "      <td>7 Mar. 1969</td>\n",
       "      <td>The Savage Curtain</td>\n",
       "      <td>22</td>\n",
       "      <td>6.8</td>\n",
       "      <td>3</td>\n",
       "      <td>78</td>\n",
       "    </tr>\n",
       "    <tr>\n",
       "      <th>78</th>\n",
       "      <td>14 Mar. 1969</td>\n",
       "      <td>All Our Yesterdays</td>\n",
       "      <td>23</td>\n",
       "      <td>8.3</td>\n",
       "      <td>3</td>\n",
       "      <td>79</td>\n",
       "    </tr>\n",
       "    <tr>\n",
       "      <th>79</th>\n",
       "      <td>3 Jun. 1969</td>\n",
       "      <td>Turnabout Intruder</td>\n",
       "      <td>24</td>\n",
       "      <td>6.9</td>\n",
       "      <td>3</td>\n",
       "      <td>80</td>\n",
       "    </tr>\n",
       "  </tbody>\n",
       "</table>\n",
       "</div>"
      ],
      "text/plain": [
       "         airdate             ep_name  number  rating season  index\n",
       "75  21 Feb. 1969     The Way to Eden      20     5.5      3     76\n",
       "76  28 Feb. 1969   The Cloud Minders      21     7.0      3     77\n",
       "77   7 Mar. 1969  The Savage Curtain      22     6.8      3     78\n",
       "78  14 Mar. 1969  All Our Yesterdays      23     8.3      3     79\n",
       "79   3 Jun. 1969  Turnabout Intruder      24     6.9      3     80"
      ]
     },
     "execution_count": 13,
     "metadata": {},
     "output_type": "execute_result"
    }
   ],
   "source": [
    "imdb_data.tail()"
   ]
  },
  {
   "cell_type": "code",
   "execution_count": 14,
   "metadata": {
    "collapsed": true
   },
   "outputs": [],
   "source": [
    "imdb_data.to_csv('tos_imdb_data.csv', index=False)"
   ]
  },
  {
   "cell_type": "code",
   "execution_count": 15,
   "metadata": {
    "collapsed": true
   },
   "outputs": [],
   "source": [
    "df_test = pd.read_csv('./tos_imdb_data.csv')"
   ]
  },
  {
   "cell_type": "code",
   "execution_count": 16,
   "metadata": {},
   "outputs": [
    {
     "data": {
      "text/html": [
       "<div>\n",
       "<style>\n",
       "    .dataframe thead tr:only-child th {\n",
       "        text-align: right;\n",
       "    }\n",
       "\n",
       "    .dataframe thead th {\n",
       "        text-align: left;\n",
       "    }\n",
       "\n",
       "    .dataframe tbody tr th {\n",
       "        vertical-align: top;\n",
       "    }\n",
       "</style>\n",
       "<table border=\"1\" class=\"dataframe\">\n",
       "  <thead>\n",
       "    <tr style=\"text-align: right;\">\n",
       "      <th></th>\n",
       "      <th>airdate</th>\n",
       "      <th>ep_name</th>\n",
       "      <th>number</th>\n",
       "      <th>rating</th>\n",
       "      <th>season</th>\n",
       "      <th>index</th>\n",
       "    </tr>\n",
       "  </thead>\n",
       "  <tbody>\n",
       "    <tr>\n",
       "      <th>0</th>\n",
       "      <td>27 Nov. 1988</td>\n",
       "      <td>The Cage</td>\n",
       "      <td>0</td>\n",
       "      <td>7.7</td>\n",
       "      <td>1</td>\n",
       "      <td>1</td>\n",
       "    </tr>\n",
       "    <tr>\n",
       "      <th>1</th>\n",
       "      <td>8 Sep. 1966</td>\n",
       "      <td>The Man Trap</td>\n",
       "      <td>1</td>\n",
       "      <td>7.3</td>\n",
       "      <td>1</td>\n",
       "      <td>2</td>\n",
       "    </tr>\n",
       "    <tr>\n",
       "      <th>2</th>\n",
       "      <td>15 Sep. 1966</td>\n",
       "      <td>Charlie X</td>\n",
       "      <td>2</td>\n",
       "      <td>7.2</td>\n",
       "      <td>1</td>\n",
       "      <td>3</td>\n",
       "    </tr>\n",
       "    <tr>\n",
       "      <th>3</th>\n",
       "      <td>22 Sep. 1966</td>\n",
       "      <td>Where No Man Has Gone Before</td>\n",
       "      <td>3</td>\n",
       "      <td>7.8</td>\n",
       "      <td>1</td>\n",
       "      <td>4</td>\n",
       "    </tr>\n",
       "    <tr>\n",
       "      <th>4</th>\n",
       "      <td>29 Sep. 1966</td>\n",
       "      <td>The Naked Time</td>\n",
       "      <td>4</td>\n",
       "      <td>8.0</td>\n",
       "      <td>1</td>\n",
       "      <td>5</td>\n",
       "    </tr>\n",
       "  </tbody>\n",
       "</table>\n",
       "</div>"
      ],
      "text/plain": [
       "        airdate                       ep_name  number  rating  season  index\n",
       "0  27 Nov. 1988                      The Cage       0     7.7       1      1\n",
       "1   8 Sep. 1966                  The Man Trap       1     7.3       1      2\n",
       "2  15 Sep. 1966                     Charlie X       2     7.2       1      3\n",
       "3  22 Sep. 1966  Where No Man Has Gone Before       3     7.8       1      4\n",
       "4  29 Sep. 1966                The Naked Time       4     8.0       1      5"
      ]
     },
     "execution_count": 16,
     "metadata": {},
     "output_type": "execute_result"
    }
   ],
   "source": [
    "df_test.head()"
   ]
  },
  {
   "cell_type": "code",
   "execution_count": null,
   "metadata": {
    "collapsed": true
   },
   "outputs": [],
   "source": []
  }
 ],
 "metadata": {
  "kernelspec": {
   "display_name": "Python 3",
   "language": "python",
   "name": "python3"
  },
  "language_info": {
   "codemirror_mode": {
    "name": "ipython",
    "version": 3
   },
   "file_extension": ".py",
   "mimetype": "text/x-python",
   "name": "python",
   "nbconvert_exporter": "python",
   "pygments_lexer": "ipython3",
   "version": "3.6.1"
  }
 },
 "nbformat": 4,
 "nbformat_minor": 2
}
