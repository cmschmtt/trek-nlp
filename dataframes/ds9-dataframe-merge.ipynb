{
 "cells": [
  {
   "cell_type": "code",
   "execution_count": 286,
   "metadata": {
    "collapsed": true
   },
   "outputs": [],
   "source": [
    "import pandas as pd\n",
    "import numpy as np\n",
    "import matplotlib.pyplot as plt\n",
    "import seaborn as sns\n",
    "%matplotlib inline\n",
    "\n",
    "from sklearn.decomposition import LatentDirichletAllocation\n",
    "from sklearn.metrics import accuracy_score\n",
    "from sklearn.model_selection import train_test_split\n",
    "from sklearn.pipeline import make_union, make_pipeline\n",
    "\n",
    "from nltk.stem import PorterStemmer\n",
    "from nltk.corpus import stopwords\n",
    "\n",
    "import spacy\n",
    "from textblob import TextBlob"
   ]
  },
  {
   "cell_type": "code",
   "execution_count": 287,
   "metadata": {
    "collapsed": true
   },
   "outputs": [],
   "source": [
    "from sklearn.feature_extraction.text import CountVectorizer, TfidfVectorizer\n",
    "from sklearn.linear_model import LogisticRegressionCV\n",
    "from sklearn.pipeline import make_pipeline"
   ]
  },
  {
   "cell_type": "code",
   "execution_count": 288,
   "metadata": {
    "collapsed": true
   },
   "outputs": [],
   "source": [
    "from sklearn.ensemble import RandomForestClassifier, AdaBoostClassifier\n",
    "from sklearn.decomposition import TruncatedSVD\n",
    "from sklearn.model_selection import GridSearchCV"
   ]
  },
  {
   "cell_type": "code",
   "execution_count": 289,
   "metadata": {
    "collapsed": true
   },
   "outputs": [],
   "source": [
    "%matplotlib inline"
   ]
  },
  {
   "cell_type": "code",
   "execution_count": 328,
   "metadata": {
    "collapsed": true
   },
   "outputs": [],
   "source": [
    "imdb_df = pd.read_csv('./imdb_ds9_data.csv')\n",
    "imdb_df.rename(columns={'ep_name': 'ep_title'}, inplace=True)"
   ]
  },
  {
   "cell_type": "code",
   "execution_count": 329,
   "metadata": {
    "collapsed": true
   },
   "outputs": [],
   "source": [
    "df = pd.read_csv('./dataframe_all_ds9.csv')"
   ]
  },
  {
   "cell_type": "code",
   "execution_count": 330,
   "metadata": {},
   "outputs": [
    {
     "data": {
      "text/html": [
       "<div>\n",
       "<style>\n",
       "    .dataframe thead tr:only-child th {\n",
       "        text-align: right;\n",
       "    }\n",
       "\n",
       "    .dataframe thead th {\n",
       "        text-align: left;\n",
       "    }\n",
       "\n",
       "    .dataframe tbody tr th {\n",
       "        vertical-align: top;\n",
       "    }\n",
       "</style>\n",
       "<table border=\"1\" class=\"dataframe\">\n",
       "  <thead>\n",
       "    <tr style=\"text-align: right;\">\n",
       "      <th></th>\n",
       "      <th>character</th>\n",
       "      <th>ep_title</th>\n",
       "      <th>text</th>\n",
       "    </tr>\n",
       "  </thead>\n",
       "  <tbody>\n",
       "    <tr>\n",
       "      <th>0</th>\n",
       "      <td>LOCUTUS</td>\n",
       "      <td>Emissary</td>\n",
       "      <td>Resistance is futile.</td>\n",
       "    </tr>\n",
       "    <tr>\n",
       "      <th>1</th>\n",
       "      <td>LOCUTUS</td>\n",
       "      <td>Emissary</td>\n",
       "      <td>You will disarm your weapons and escort us to ...</td>\n",
       "    </tr>\n",
       "    <tr>\n",
       "      <th>2</th>\n",
       "      <td>LOCUTUS</td>\n",
       "      <td>Emissary</td>\n",
       "      <td>If you attempt to intervene, we will destroy you.</td>\n",
       "    </tr>\n",
       "    <tr>\n",
       "      <th>3</th>\n",
       "      <td>LOCUTUS</td>\n",
       "      <td>Emissary</td>\n",
       "      <td>It is malevolent.</td>\n",
       "    </tr>\n",
       "    <tr>\n",
       "      <th>4</th>\n",
       "      <td>LOCUTUS</td>\n",
       "      <td>Emissary</td>\n",
       "      <td>Destroy it now.</td>\n",
       "    </tr>\n",
       "  </tbody>\n",
       "</table>\n",
       "</div>"
      ],
      "text/plain": [
       "  character  ep_title                                               text\n",
       "0   LOCUTUS  Emissary                              Resistance is futile.\n",
       "1   LOCUTUS  Emissary  You will disarm your weapons and escort us to ...\n",
       "2   LOCUTUS  Emissary  If you attempt to intervene, we will destroy you.\n",
       "3   LOCUTUS  Emissary                                  It is malevolent.\n",
       "4   LOCUTUS  Emissary                                    Destroy it now."
      ]
     },
     "execution_count": 330,
     "metadata": {},
     "output_type": "execute_result"
    }
   ],
   "source": [
    "df.head()"
   ]
  },
  {
   "cell_type": "code",
   "execution_count": 331,
   "metadata": {},
   "outputs": [
    {
     "data": {
      "text/html": [
       "<div>\n",
       "<style>\n",
       "    .dataframe thead tr:only-child th {\n",
       "        text-align: right;\n",
       "    }\n",
       "\n",
       "    .dataframe thead th {\n",
       "        text-align: left;\n",
       "    }\n",
       "\n",
       "    .dataframe tbody tr th {\n",
       "        vertical-align: top;\n",
       "    }\n",
       "</style>\n",
       "<table border=\"1\" class=\"dataframe\">\n",
       "  <thead>\n",
       "    <tr style=\"text-align: right;\">\n",
       "      <th></th>\n",
       "      <th>character</th>\n",
       "      <th>ep_title</th>\n",
       "      <th>text</th>\n",
       "    </tr>\n",
       "  </thead>\n",
       "  <tbody>\n",
       "    <tr>\n",
       "      <th>count</th>\n",
       "      <td>114487</td>\n",
       "      <td>114487</td>\n",
       "      <td>114487</td>\n",
       "    </tr>\n",
       "    <tr>\n",
       "      <th>unique</th>\n",
       "      <td>661</td>\n",
       "      <td>173</td>\n",
       "      <td>93606</td>\n",
       "    </tr>\n",
       "    <tr>\n",
       "      <th>top</th>\n",
       "      <td>SISKO</td>\n",
       "      <td>The Way of the Warrior</td>\n",
       "      <td>No.</td>\n",
       "    </tr>\n",
       "    <tr>\n",
       "      <th>freq</th>\n",
       "      <td>14023</td>\n",
       "      <td>1344</td>\n",
       "      <td>537</td>\n",
       "    </tr>\n",
       "  </tbody>\n",
       "</table>\n",
       "</div>"
      ],
      "text/plain": [
       "       character                ep_title    text\n",
       "count     114487                  114487  114487\n",
       "unique       661                     173   93606\n",
       "top        SISKO  The Way of the Warrior     No.\n",
       "freq       14023                    1344     537"
      ]
     },
     "execution_count": 331,
     "metadata": {},
     "output_type": "execute_result"
    }
   ],
   "source": [
    "df.describe()"
   ]
  },
  {
   "cell_type": "code",
   "execution_count": 332,
   "metadata": {},
   "outputs": [
    {
     "data": {
      "text/html": [
       "<div>\n",
       "<style>\n",
       "    .dataframe thead tr:only-child th {\n",
       "        text-align: right;\n",
       "    }\n",
       "\n",
       "    .dataframe thead th {\n",
       "        text-align: left;\n",
       "    }\n",
       "\n",
       "    .dataframe tbody tr th {\n",
       "        vertical-align: top;\n",
       "    }\n",
       "</style>\n",
       "<table border=\"1\" class=\"dataframe\">\n",
       "  <thead>\n",
       "    <tr style=\"text-align: right;\">\n",
       "      <th></th>\n",
       "      <th>airdate</th>\n",
       "      <th>ep_title</th>\n",
       "      <th>number</th>\n",
       "      <th>rating</th>\n",
       "      <th>season</th>\n",
       "      <th>index</th>\n",
       "    </tr>\n",
       "  </thead>\n",
       "  <tbody>\n",
       "    <tr>\n",
       "      <th>0</th>\n",
       "      <td>3 Jan. 1993</td>\n",
       "      <td>Emissary</td>\n",
       "      <td>1</td>\n",
       "      <td>7.5</td>\n",
       "      <td>1</td>\n",
       "      <td>1</td>\n",
       "    </tr>\n",
       "    <tr>\n",
       "      <th>1</th>\n",
       "      <td>10 Jan. 1993</td>\n",
       "      <td>Past Prologue</td>\n",
       "      <td>2</td>\n",
       "      <td>7.0</td>\n",
       "      <td>1</td>\n",
       "      <td>2</td>\n",
       "    </tr>\n",
       "    <tr>\n",
       "      <th>2</th>\n",
       "      <td>17 Jan. 1993</td>\n",
       "      <td>A Man Alone</td>\n",
       "      <td>3</td>\n",
       "      <td>6.9</td>\n",
       "      <td>1</td>\n",
       "      <td>3</td>\n",
       "    </tr>\n",
       "    <tr>\n",
       "      <th>3</th>\n",
       "      <td>24 Jan. 1993</td>\n",
       "      <td>Babel</td>\n",
       "      <td>4</td>\n",
       "      <td>6.9</td>\n",
       "      <td>1</td>\n",
       "      <td>4</td>\n",
       "    </tr>\n",
       "    <tr>\n",
       "      <th>4</th>\n",
       "      <td>31 Jan. 1993</td>\n",
       "      <td>Captive Pursuit</td>\n",
       "      <td>5</td>\n",
       "      <td>7.7</td>\n",
       "      <td>1</td>\n",
       "      <td>5</td>\n",
       "    </tr>\n",
       "  </tbody>\n",
       "</table>\n",
       "</div>"
      ],
      "text/plain": [
       "        airdate         ep_title  number  rating  season  index\n",
       "0   3 Jan. 1993         Emissary       1     7.5       1      1\n",
       "1  10 Jan. 1993    Past Prologue       2     7.0       1      2\n",
       "2  17 Jan. 1993      A Man Alone       3     6.9       1      3\n",
       "3  24 Jan. 1993            Babel       4     6.9       1      4\n",
       "4  31 Jan. 1993  Captive Pursuit       5     7.7       1      5"
      ]
     },
     "execution_count": 332,
     "metadata": {},
     "output_type": "execute_result"
    }
   ],
   "source": [
    "imdb_df.head()"
   ]
  },
  {
   "cell_type": "code",
   "execution_count": 333,
   "metadata": {},
   "outputs": [
    {
     "data": {
      "text/html": [
       "<div>\n",
       "<style>\n",
       "    .dataframe thead tr:only-child th {\n",
       "        text-align: right;\n",
       "    }\n",
       "\n",
       "    .dataframe thead th {\n",
       "        text-align: left;\n",
       "    }\n",
       "\n",
       "    .dataframe tbody tr th {\n",
       "        vertical-align: top;\n",
       "    }\n",
       "</style>\n",
       "<table border=\"1\" class=\"dataframe\">\n",
       "  <thead>\n",
       "    <tr style=\"text-align: right;\">\n",
       "      <th></th>\n",
       "      <th>airdate</th>\n",
       "      <th>ep_title</th>\n",
       "      <th>number</th>\n",
       "      <th>rating</th>\n",
       "      <th>season</th>\n",
       "      <th>index</th>\n",
       "    </tr>\n",
       "  </thead>\n",
       "  <tbody>\n",
       "    <tr>\n",
       "      <th>168</th>\n",
       "      <td>5 May 1999</td>\n",
       "      <td>When It Rains...</td>\n",
       "      <td>21</td>\n",
       "      <td>8.1</td>\n",
       "      <td>7</td>\n",
       "      <td>169</td>\n",
       "    </tr>\n",
       "    <tr>\n",
       "      <th>169</th>\n",
       "      <td>12 May 1999</td>\n",
       "      <td>Tacking Into the Wind</td>\n",
       "      <td>22</td>\n",
       "      <td>8.7</td>\n",
       "      <td>7</td>\n",
       "      <td>170</td>\n",
       "    </tr>\n",
       "    <tr>\n",
       "      <th>170</th>\n",
       "      <td>19 May 1999</td>\n",
       "      <td>Extreme Measures</td>\n",
       "      <td>23</td>\n",
       "      <td>7.5</td>\n",
       "      <td>7</td>\n",
       "      <td>171</td>\n",
       "    </tr>\n",
       "    <tr>\n",
       "      <th>171</th>\n",
       "      <td>26 May 1999</td>\n",
       "      <td>The Dogs of War</td>\n",
       "      <td>24</td>\n",
       "      <td>8.2</td>\n",
       "      <td>7</td>\n",
       "      <td>172</td>\n",
       "    </tr>\n",
       "    <tr>\n",
       "      <th>172</th>\n",
       "      <td>2 Jun. 1999</td>\n",
       "      <td>What You Leave Behind</td>\n",
       "      <td>25</td>\n",
       "      <td>8.8</td>\n",
       "      <td>7</td>\n",
       "      <td>173</td>\n",
       "    </tr>\n",
       "  </tbody>\n",
       "</table>\n",
       "</div>"
      ],
      "text/plain": [
       "         airdate               ep_title  number  rating  season  index\n",
       "168   5 May 1999       When It Rains...      21     8.1       7    169\n",
       "169  12 May 1999  Tacking Into the Wind      22     8.7       7    170\n",
       "170  19 May 1999       Extreme Measures      23     7.5       7    171\n",
       "171  26 May 1999        The Dogs of War      24     8.2       7    172\n",
       "172  2 Jun. 1999  What You Leave Behind      25     8.8       7    173"
      ]
     },
     "execution_count": 333,
     "metadata": {},
     "output_type": "execute_result"
    }
   ],
   "source": [
    "imdb_df.tail()"
   ]
  },
  {
   "cell_type": "code",
   "execution_count": 334,
   "metadata": {},
   "outputs": [
    {
     "data": {
      "text/plain": [
       "173"
      ]
     },
     "execution_count": 334,
     "metadata": {},
     "output_type": "execute_result"
    }
   ],
   "source": [
    "len(imdb_df)"
   ]
  },
  {
   "cell_type": "code",
   "execution_count": 335,
   "metadata": {
    "collapsed": true
   },
   "outputs": [],
   "source": [
    "imdb_df['index'] = list(range(1,174))"
   ]
  },
  {
   "cell_type": "code",
   "execution_count": 336,
   "metadata": {},
   "outputs": [
    {
     "data": {
      "text/html": [
       "<div>\n",
       "<style>\n",
       "    .dataframe thead tr:only-child th {\n",
       "        text-align: right;\n",
       "    }\n",
       "\n",
       "    .dataframe thead th {\n",
       "        text-align: left;\n",
       "    }\n",
       "\n",
       "    .dataframe tbody tr th {\n",
       "        vertical-align: top;\n",
       "    }\n",
       "</style>\n",
       "<table border=\"1\" class=\"dataframe\">\n",
       "  <thead>\n",
       "    <tr style=\"text-align: right;\">\n",
       "      <th></th>\n",
       "      <th>airdate</th>\n",
       "      <th>ep_title</th>\n",
       "      <th>number</th>\n",
       "      <th>rating</th>\n",
       "      <th>season</th>\n",
       "      <th>index</th>\n",
       "    </tr>\n",
       "  </thead>\n",
       "  <tbody>\n",
       "    <tr>\n",
       "      <th>0</th>\n",
       "      <td>3 Jan. 1993</td>\n",
       "      <td>Emissary</td>\n",
       "      <td>1</td>\n",
       "      <td>7.5</td>\n",
       "      <td>1</td>\n",
       "      <td>1</td>\n",
       "    </tr>\n",
       "    <tr>\n",
       "      <th>1</th>\n",
       "      <td>10 Jan. 1993</td>\n",
       "      <td>Past Prologue</td>\n",
       "      <td>2</td>\n",
       "      <td>7.0</td>\n",
       "      <td>1</td>\n",
       "      <td>2</td>\n",
       "    </tr>\n",
       "    <tr>\n",
       "      <th>2</th>\n",
       "      <td>17 Jan. 1993</td>\n",
       "      <td>A Man Alone</td>\n",
       "      <td>3</td>\n",
       "      <td>6.9</td>\n",
       "      <td>1</td>\n",
       "      <td>3</td>\n",
       "    </tr>\n",
       "    <tr>\n",
       "      <th>3</th>\n",
       "      <td>24 Jan. 1993</td>\n",
       "      <td>Babel</td>\n",
       "      <td>4</td>\n",
       "      <td>6.9</td>\n",
       "      <td>1</td>\n",
       "      <td>4</td>\n",
       "    </tr>\n",
       "    <tr>\n",
       "      <th>4</th>\n",
       "      <td>31 Jan. 1993</td>\n",
       "      <td>Captive Pursuit</td>\n",
       "      <td>5</td>\n",
       "      <td>7.7</td>\n",
       "      <td>1</td>\n",
       "      <td>5</td>\n",
       "    </tr>\n",
       "  </tbody>\n",
       "</table>\n",
       "</div>"
      ],
      "text/plain": [
       "        airdate         ep_title  number  rating  season  index\n",
       "0   3 Jan. 1993         Emissary       1     7.5       1      1\n",
       "1  10 Jan. 1993    Past Prologue       2     7.0       1      2\n",
       "2  17 Jan. 1993      A Man Alone       3     6.9       1      3\n",
       "3  24 Jan. 1993            Babel       4     6.9       1      4\n",
       "4  31 Jan. 1993  Captive Pursuit       5     7.7       1      5"
      ]
     },
     "execution_count": 336,
     "metadata": {},
     "output_type": "execute_result"
    }
   ],
   "source": [
    "imdb_df.head()"
   ]
  },
  {
   "cell_type": "code",
   "execution_count": 337,
   "metadata": {},
   "outputs": [
    {
     "data": {
      "text/html": [
       "<div>\n",
       "<style>\n",
       "    .dataframe thead tr:only-child th {\n",
       "        text-align: right;\n",
       "    }\n",
       "\n",
       "    .dataframe thead th {\n",
       "        text-align: left;\n",
       "    }\n",
       "\n",
       "    .dataframe tbody tr th {\n",
       "        vertical-align: top;\n",
       "    }\n",
       "</style>\n",
       "<table border=\"1\" class=\"dataframe\">\n",
       "  <thead>\n",
       "    <tr style=\"text-align: right;\">\n",
       "      <th></th>\n",
       "      <th>airdate</th>\n",
       "      <th>ep_title</th>\n",
       "      <th>number</th>\n",
       "      <th>rating</th>\n",
       "      <th>season</th>\n",
       "      <th>index</th>\n",
       "    </tr>\n",
       "  </thead>\n",
       "  <tbody>\n",
       "    <tr>\n",
       "      <th>168</th>\n",
       "      <td>5 May 1999</td>\n",
       "      <td>When It Rains...</td>\n",
       "      <td>21</td>\n",
       "      <td>8.1</td>\n",
       "      <td>7</td>\n",
       "      <td>169</td>\n",
       "    </tr>\n",
       "    <tr>\n",
       "      <th>169</th>\n",
       "      <td>12 May 1999</td>\n",
       "      <td>Tacking Into the Wind</td>\n",
       "      <td>22</td>\n",
       "      <td>8.7</td>\n",
       "      <td>7</td>\n",
       "      <td>170</td>\n",
       "    </tr>\n",
       "    <tr>\n",
       "      <th>170</th>\n",
       "      <td>19 May 1999</td>\n",
       "      <td>Extreme Measures</td>\n",
       "      <td>23</td>\n",
       "      <td>7.5</td>\n",
       "      <td>7</td>\n",
       "      <td>171</td>\n",
       "    </tr>\n",
       "    <tr>\n",
       "      <th>171</th>\n",
       "      <td>26 May 1999</td>\n",
       "      <td>The Dogs of War</td>\n",
       "      <td>24</td>\n",
       "      <td>8.2</td>\n",
       "      <td>7</td>\n",
       "      <td>172</td>\n",
       "    </tr>\n",
       "    <tr>\n",
       "      <th>172</th>\n",
       "      <td>2 Jun. 1999</td>\n",
       "      <td>What You Leave Behind</td>\n",
       "      <td>25</td>\n",
       "      <td>8.8</td>\n",
       "      <td>7</td>\n",
       "      <td>173</td>\n",
       "    </tr>\n",
       "  </tbody>\n",
       "</table>\n",
       "</div>"
      ],
      "text/plain": [
       "         airdate               ep_title  number  rating  season  index\n",
       "168   5 May 1999       When It Rains...      21     8.1       7    169\n",
       "169  12 May 1999  Tacking Into the Wind      22     8.7       7    170\n",
       "170  19 May 1999       Extreme Measures      23     7.5       7    171\n",
       "171  26 May 1999        The Dogs of War      24     8.2       7    172\n",
       "172  2 Jun. 1999  What You Leave Behind      25     8.8       7    173"
      ]
     },
     "execution_count": 337,
     "metadata": {},
     "output_type": "execute_result"
    }
   ],
   "source": [
    "imdb_df.tail()"
   ]
  },
  {
   "cell_type": "code",
   "execution_count": 338,
   "metadata": {
    "collapsed": true
   },
   "outputs": [],
   "source": [
    "df['ep_title_formatted'] = [''.join(e for e in title if e.isalnum()).lower() for title in df['ep_title']]"
   ]
  },
  {
   "cell_type": "code",
   "execution_count": 339,
   "metadata": {},
   "outputs": [
    {
     "data": {
      "text/html": [
       "<div>\n",
       "<style>\n",
       "    .dataframe thead tr:only-child th {\n",
       "        text-align: right;\n",
       "    }\n",
       "\n",
       "    .dataframe thead th {\n",
       "        text-align: left;\n",
       "    }\n",
       "\n",
       "    .dataframe tbody tr th {\n",
       "        vertical-align: top;\n",
       "    }\n",
       "</style>\n",
       "<table border=\"1\" class=\"dataframe\">\n",
       "  <thead>\n",
       "    <tr style=\"text-align: right;\">\n",
       "      <th></th>\n",
       "      <th>character</th>\n",
       "      <th>ep_title</th>\n",
       "      <th>text</th>\n",
       "      <th>ep_title_formatted</th>\n",
       "    </tr>\n",
       "  </thead>\n",
       "  <tbody>\n",
       "    <tr>\n",
       "      <th>0</th>\n",
       "      <td>LOCUTUS</td>\n",
       "      <td>Emissary</td>\n",
       "      <td>Resistance is futile.</td>\n",
       "      <td>emissary</td>\n",
       "    </tr>\n",
       "    <tr>\n",
       "      <th>1</th>\n",
       "      <td>LOCUTUS</td>\n",
       "      <td>Emissary</td>\n",
       "      <td>You will disarm your weapons and escort us to ...</td>\n",
       "      <td>emissary</td>\n",
       "    </tr>\n",
       "    <tr>\n",
       "      <th>2</th>\n",
       "      <td>LOCUTUS</td>\n",
       "      <td>Emissary</td>\n",
       "      <td>If you attempt to intervene, we will destroy you.</td>\n",
       "      <td>emissary</td>\n",
       "    </tr>\n",
       "    <tr>\n",
       "      <th>3</th>\n",
       "      <td>LOCUTUS</td>\n",
       "      <td>Emissary</td>\n",
       "      <td>It is malevolent.</td>\n",
       "      <td>emissary</td>\n",
       "    </tr>\n",
       "    <tr>\n",
       "      <th>4</th>\n",
       "      <td>LOCUTUS</td>\n",
       "      <td>Emissary</td>\n",
       "      <td>Destroy it now.</td>\n",
       "      <td>emissary</td>\n",
       "    </tr>\n",
       "  </tbody>\n",
       "</table>\n",
       "</div>"
      ],
      "text/plain": [
       "  character  ep_title                                               text  \\\n",
       "0   LOCUTUS  Emissary                              Resistance is futile.   \n",
       "1   LOCUTUS  Emissary  You will disarm your weapons and escort us to ...   \n",
       "2   LOCUTUS  Emissary  If you attempt to intervene, we will destroy you.   \n",
       "3   LOCUTUS  Emissary                                  It is malevolent.   \n",
       "4   LOCUTUS  Emissary                                    Destroy it now.   \n",
       "\n",
       "  ep_title_formatted  \n",
       "0           emissary  \n",
       "1           emissary  \n",
       "2           emissary  \n",
       "3           emissary  \n",
       "4           emissary  "
      ]
     },
     "execution_count": 339,
     "metadata": {},
     "output_type": "execute_result"
    }
   ],
   "source": [
    "df.head()"
   ]
  },
  {
   "cell_type": "code",
   "execution_count": 340,
   "metadata": {
    "collapsed": true
   },
   "outputs": [],
   "source": [
    "imdb_df['ep_title_formatted'] = [''.join(e for e in title if e.isalnum()).lower() for title in imdb_df['ep_title']]"
   ]
  },
  {
   "cell_type": "code",
   "execution_count": 341,
   "metadata": {},
   "outputs": [
    {
     "data": {
      "text/html": [
       "<div>\n",
       "<style>\n",
       "    .dataframe thead tr:only-child th {\n",
       "        text-align: right;\n",
       "    }\n",
       "\n",
       "    .dataframe thead th {\n",
       "        text-align: left;\n",
       "    }\n",
       "\n",
       "    .dataframe tbody tr th {\n",
       "        vertical-align: top;\n",
       "    }\n",
       "</style>\n",
       "<table border=\"1\" class=\"dataframe\">\n",
       "  <thead>\n",
       "    <tr style=\"text-align: right;\">\n",
       "      <th></th>\n",
       "      <th>airdate</th>\n",
       "      <th>ep_title</th>\n",
       "      <th>number</th>\n",
       "      <th>rating</th>\n",
       "      <th>season</th>\n",
       "      <th>index</th>\n",
       "      <th>ep_title_formatted</th>\n",
       "    </tr>\n",
       "  </thead>\n",
       "  <tbody>\n",
       "    <tr>\n",
       "      <th>0</th>\n",
       "      <td>3 Jan. 1993</td>\n",
       "      <td>Emissary</td>\n",
       "      <td>1</td>\n",
       "      <td>7.5</td>\n",
       "      <td>1</td>\n",
       "      <td>1</td>\n",
       "      <td>emissary</td>\n",
       "    </tr>\n",
       "    <tr>\n",
       "      <th>1</th>\n",
       "      <td>10 Jan. 1993</td>\n",
       "      <td>Past Prologue</td>\n",
       "      <td>2</td>\n",
       "      <td>7.0</td>\n",
       "      <td>1</td>\n",
       "      <td>2</td>\n",
       "      <td>pastprologue</td>\n",
       "    </tr>\n",
       "    <tr>\n",
       "      <th>2</th>\n",
       "      <td>17 Jan. 1993</td>\n",
       "      <td>A Man Alone</td>\n",
       "      <td>3</td>\n",
       "      <td>6.9</td>\n",
       "      <td>1</td>\n",
       "      <td>3</td>\n",
       "      <td>amanalone</td>\n",
       "    </tr>\n",
       "    <tr>\n",
       "      <th>3</th>\n",
       "      <td>24 Jan. 1993</td>\n",
       "      <td>Babel</td>\n",
       "      <td>4</td>\n",
       "      <td>6.9</td>\n",
       "      <td>1</td>\n",
       "      <td>4</td>\n",
       "      <td>babel</td>\n",
       "    </tr>\n",
       "    <tr>\n",
       "      <th>4</th>\n",
       "      <td>31 Jan. 1993</td>\n",
       "      <td>Captive Pursuit</td>\n",
       "      <td>5</td>\n",
       "      <td>7.7</td>\n",
       "      <td>1</td>\n",
       "      <td>5</td>\n",
       "      <td>captivepursuit</td>\n",
       "    </tr>\n",
       "  </tbody>\n",
       "</table>\n",
       "</div>"
      ],
      "text/plain": [
       "        airdate         ep_title  number  rating  season  index  \\\n",
       "0   3 Jan. 1993         Emissary       1     7.5       1      1   \n",
       "1  10 Jan. 1993    Past Prologue       2     7.0       1      2   \n",
       "2  17 Jan. 1993      A Man Alone       3     6.9       1      3   \n",
       "3  24 Jan. 1993            Babel       4     6.9       1      4   \n",
       "4  31 Jan. 1993  Captive Pursuit       5     7.7       1      5   \n",
       "\n",
       "  ep_title_formatted  \n",
       "0           emissary  \n",
       "1       pastprologue  \n",
       "2          amanalone  \n",
       "3              babel  \n",
       "4     captivepursuit  "
      ]
     },
     "execution_count": 341,
     "metadata": {},
     "output_type": "execute_result"
    }
   ],
   "source": [
    "imdb_df.head()"
   ]
  },
  {
   "cell_type": "code",
   "execution_count": 307,
   "metadata": {
    "collapsed": true
   },
   "outputs": [],
   "source": [
    "temp_df = []"
   ]
  },
  {
   "cell_type": "code",
   "execution_count": 309,
   "metadata": {
    "collapsed": true
   },
   "outputs": [],
   "source": [
    "imdb_set = set(imdb_df['ep_title_formatted'])\n",
    "df_set = set(df['ep_title_formatted'])"
   ]
  },
  {
   "cell_type": "code",
   "execution_count": 310,
   "metadata": {},
   "outputs": [
    {
     "name": "stdout",
     "output_type": "stream",
     "text": [
      "favorthebold\n",
      "tildeathdouspart\n",
      "sonsofmogh\n",
      "honoramongthieves\n",
      "thesiegeofar558\n"
     ]
    }
   ],
   "source": [
    "for ep in imdb_set:\n",
    "    if ep not in df_set:\n",
    "        print(ep)"
   ]
  },
  {
   "cell_type": "code",
   "execution_count": 311,
   "metadata": {},
   "outputs": [
    {
     "name": "stdout",
     "output_type": "stream",
     "text": [
      "honouramongthieves\n",
      "tilldeathusdopart\n",
      "siegeofar558\n",
      "thesonsofmogh\n",
      "favourthebold\n"
     ]
    }
   ],
   "source": [
    "for ep in df_set:\n",
    "    if ep not in imdb_set:\n",
    "        print(ep)"
   ]
  },
  {
   "cell_type": "code",
   "execution_count": 313,
   "metadata": {
    "collapsed": true
   },
   "outputs": [],
   "source": [
    "df.replace(to_replace='favourthebold', value='favorthebold', inplace=True)\n",
    "df.replace(to_replace='tilldeathusdopart', value='tildeathdouspart', inplace=True)\n",
    "df.replace(to_replace='siegeofar558', value='thesiegeofar558', inplace=True)\n",
    "df.replace(to_replace='thesonsofmogh', value='sonsofmogh', inplace=True)\n",
    "df.replace(to_replace='honouramongthieves', value='honoramongthieves', inplace=True)"
   ]
  },
  {
   "cell_type": "code",
   "execution_count": 314,
   "metadata": {
    "collapsed": true
   },
   "outputs": [],
   "source": [
    "imdb_set = set(imdb_df['ep_title_formatted'])\n",
    "df_set = set(df['ep_title_formatted'])"
   ]
  },
  {
   "cell_type": "code",
   "execution_count": 315,
   "metadata": {
    "collapsed": true
   },
   "outputs": [],
   "source": [
    "for ep in df_set:\n",
    "    if ep not in imdb_set:\n",
    "        print(ep)"
   ]
  },
  {
   "cell_type": "code",
   "execution_count": 316,
   "metadata": {
    "collapsed": true
   },
   "outputs": [],
   "source": [
    "for ep in imdb_set:\n",
    "    if ep not in df_set:\n",
    "        print(ep)"
   ]
  },
  {
   "cell_type": "code",
   "execution_count": 317,
   "metadata": {},
   "outputs": [
    {
     "data": {
      "text/plain": [
       "set()"
      ]
     },
     "execution_count": 317,
     "metadata": {},
     "output_type": "execute_result"
    }
   ],
   "source": [
    "set(df['ep_title_formatted']) ^ set(imdb_df['ep_title_formatted'])"
   ]
  },
  {
   "cell_type": "code",
   "execution_count": 318,
   "metadata": {
    "collapsed": true
   },
   "outputs": [],
   "source": [
    "merged_df = pd.merge(df, imdb_df, on='ep_title_formatted', how='outer')"
   ]
  },
  {
   "cell_type": "code",
   "execution_count": 319,
   "metadata": {},
   "outputs": [
    {
     "data": {
      "text/html": [
       "<div>\n",
       "<style>\n",
       "    .dataframe thead tr:only-child th {\n",
       "        text-align: right;\n",
       "    }\n",
       "\n",
       "    .dataframe thead th {\n",
       "        text-align: left;\n",
       "    }\n",
       "\n",
       "    .dataframe tbody tr th {\n",
       "        vertical-align: top;\n",
       "    }\n",
       "</style>\n",
       "<table border=\"1\" class=\"dataframe\">\n",
       "  <thead>\n",
       "    <tr style=\"text-align: right;\">\n",
       "      <th></th>\n",
       "      <th>character</th>\n",
       "      <th>ep_title_x</th>\n",
       "      <th>text</th>\n",
       "      <th>ep_title_formatted</th>\n",
       "      <th>airdate</th>\n",
       "      <th>ep_title_y</th>\n",
       "      <th>number</th>\n",
       "      <th>rating</th>\n",
       "      <th>season</th>\n",
       "      <th>index</th>\n",
       "    </tr>\n",
       "  </thead>\n",
       "  <tbody>\n",
       "    <tr>\n",
       "      <th>0</th>\n",
       "      <td>LOCUTUS</td>\n",
       "      <td>Emissary</td>\n",
       "      <td>Resistance is futile.</td>\n",
       "      <td>emissary</td>\n",
       "      <td>3 Jan. 1993</td>\n",
       "      <td>Emissary</td>\n",
       "      <td>1</td>\n",
       "      <td>7.5</td>\n",
       "      <td>1</td>\n",
       "      <td>1</td>\n",
       "    </tr>\n",
       "    <tr>\n",
       "      <th>1</th>\n",
       "      <td>LOCUTUS</td>\n",
       "      <td>Emissary</td>\n",
       "      <td>You will disarm your weapons and escort us to ...</td>\n",
       "      <td>emissary</td>\n",
       "      <td>3 Jan. 1993</td>\n",
       "      <td>Emissary</td>\n",
       "      <td>1</td>\n",
       "      <td>7.5</td>\n",
       "      <td>1</td>\n",
       "      <td>1</td>\n",
       "    </tr>\n",
       "    <tr>\n",
       "      <th>2</th>\n",
       "      <td>LOCUTUS</td>\n",
       "      <td>Emissary</td>\n",
       "      <td>If you attempt to intervene, we will destroy you.</td>\n",
       "      <td>emissary</td>\n",
       "      <td>3 Jan. 1993</td>\n",
       "      <td>Emissary</td>\n",
       "      <td>1</td>\n",
       "      <td>7.5</td>\n",
       "      <td>1</td>\n",
       "      <td>1</td>\n",
       "    </tr>\n",
       "    <tr>\n",
       "      <th>3</th>\n",
       "      <td>LOCUTUS</td>\n",
       "      <td>Emissary</td>\n",
       "      <td>It is malevolent.</td>\n",
       "      <td>emissary</td>\n",
       "      <td>3 Jan. 1993</td>\n",
       "      <td>Emissary</td>\n",
       "      <td>1</td>\n",
       "      <td>7.5</td>\n",
       "      <td>1</td>\n",
       "      <td>1</td>\n",
       "    </tr>\n",
       "    <tr>\n",
       "      <th>4</th>\n",
       "      <td>LOCUTUS</td>\n",
       "      <td>Emissary</td>\n",
       "      <td>Destroy it now.</td>\n",
       "      <td>emissary</td>\n",
       "      <td>3 Jan. 1993</td>\n",
       "      <td>Emissary</td>\n",
       "      <td>1</td>\n",
       "      <td>7.5</td>\n",
       "      <td>1</td>\n",
       "      <td>1</td>\n",
       "    </tr>\n",
       "  </tbody>\n",
       "</table>\n",
       "</div>"
      ],
      "text/plain": [
       "  character ep_title_x                                               text  \\\n",
       "0   LOCUTUS   Emissary                              Resistance is futile.   \n",
       "1   LOCUTUS   Emissary  You will disarm your weapons and escort us to ...   \n",
       "2   LOCUTUS   Emissary  If you attempt to intervene, we will destroy you.   \n",
       "3   LOCUTUS   Emissary                                  It is malevolent.   \n",
       "4   LOCUTUS   Emissary                                    Destroy it now.   \n",
       "\n",
       "  ep_title_formatted      airdate ep_title_y  number  rating  season  index  \n",
       "0           emissary  3 Jan. 1993   Emissary       1     7.5       1      1  \n",
       "1           emissary  3 Jan. 1993   Emissary       1     7.5       1      1  \n",
       "2           emissary  3 Jan. 1993   Emissary       1     7.5       1      1  \n",
       "3           emissary  3 Jan. 1993   Emissary       1     7.5       1      1  \n",
       "4           emissary  3 Jan. 1993   Emissary       1     7.5       1      1  "
      ]
     },
     "execution_count": 319,
     "metadata": {},
     "output_type": "execute_result"
    }
   ],
   "source": [
    "merged_df.head()"
   ]
  },
  {
   "cell_type": "code",
   "execution_count": 320,
   "metadata": {
    "collapsed": true
   },
   "outputs": [],
   "source": [
    "merged_df.drop(['ep_title_x'], axis=1, inplace=True)"
   ]
  },
  {
   "cell_type": "code",
   "execution_count": 321,
   "metadata": {
    "collapsed": true
   },
   "outputs": [],
   "source": [
    "merged_df.to_csv('merged_df.csv', index=False)"
   ]
  },
  {
   "cell_type": "code",
   "execution_count": null,
   "metadata": {
    "collapsed": true
   },
   "outputs": [],
   "source": []
  },
  {
   "cell_type": "code",
   "execution_count": null,
   "metadata": {
    "collapsed": true
   },
   "outputs": [],
   "source": []
  },
  {
   "cell_type": "code",
   "execution_count": null,
   "metadata": {
    "collapsed": true
   },
   "outputs": [],
   "source": []
  },
  {
   "cell_type": "code",
   "execution_count": 187,
   "metadata": {
    "collapsed": true
   },
   "outputs": [],
   "source": [
    "X = common_chars_df['text']\n",
    "y = common_chars_df['character']"
   ]
  },
  {
   "cell_type": "code",
   "execution_count": 188,
   "metadata": {
    "collapsed": true
   },
   "outputs": [],
   "source": [
    "cv = CountVectorizer(stop_words='english')\n",
    "X_cv = cv.fit_transform(X)\n",
    "feature_names = cv.get_feature_names()"
   ]
  },
  {
   "cell_type": "code",
   "execution_count": 189,
   "metadata": {
    "collapsed": true
   },
   "outputs": [],
   "source": [
    "def LDA_batch(X, n):\n",
    "    lda = LatentDirichletAllocation(n_topics=n)\n",
    "    lda.fit(X)\n",
    "    results = pd.DataFrame(lda.components_, columns=feature_names)\n",
    "    print('LDA for {} topics:'.format(n))\n",
    "    for topic in range(n):\n",
    "        print('Topic', topic)\n",
    "        word_list = results.T[topic].sort_values(ascending=False).index\n",
    "        print(' '.join(word_list[0:25]), '\\n')"
   ]
  },
  {
   "cell_type": "code",
   "execution_count": 191,
   "metadata": {},
   "outputs": [
    {
     "name": "stderr",
     "output_type": "stream",
     "text": [
      "/Users/caroline/anaconda/lib/python3.6/site-packages/sklearn/decomposition/online_lda.py:508: DeprecationWarning: The default value for 'learning_method' will be changed from 'online' to 'batch' in the release 0.20. This warning was introduced in 0.18.\n",
      "  DeprecationWarning)\n"
     ]
    },
    {
     "name": "stdout",
     "output_type": "stream",
     "text": [
      "LDA for 10 topics:\n",
      "Topic 0\n",
      "time didn station really major sir thank bajor trying kira guess garak ferengi nog haven able matter command heard point rest quite couldn actually killed \n",
      "\n",
      "Topic 1\n",
      "long sisko doing commander talk day new does hear war lot computer glad end chance benjamin aren lost holosuite mission damar different programme trust hard \n",
      "\n",
      "Topic 2\n",
      "just come sure yes cardassian talking place power stay looking night entire klingons weapons gone dead room forget family sir trouble case times week sense \n",
      "\n",
      "Topic 3\n",
      "did tell little starfleet isn sorry hadar jem prophets left coming ships dukat yeah friend means thirty nagus far field waiting easy face turn death \n",
      "\n",
      "Topic 4\n",
      "don want better chief thing quark thought worf course understand mind remember great brien mister wish order rom miles business suppose bring morning looks telling \n",
      "\n",
      "Topic 5\n",
      "know right think way make look mean said life years bajoran wanted julian seven ago space quadrant best ah stand excuse makes true reason deep \n",
      "\n",
      "Topic 6\n",
      "ve let got help believe won federation work away feel wouldn security ask afraid exactly knew cardassians use father bad kill working problem worry set \n",
      "\n",
      "Topic 7\n",
      "like good odo maybe man doesn wrong stop idea hours wait home days old ready klingon jadzia came hold officer die seen question saying open \n",
      "\n",
      "Topic 8\n",
      "ll need doctor ship told dax try care wasn dominion bashir soon ahead warp moment wormhole defiant head hand wants report live runabout months taking \n",
      "\n",
      "Topic 9\n",
      "going say oh captain people things leave hope kind love happened jake cardassia fine getting used brother okay start quarters minutes friends happy mother woman \n",
      "\n"
     ]
    }
   ],
   "source": [
    "LDA_batch(X_cv, 10)"
   ]
  },
  {
   "cell_type": "code",
   "execution_count": 192,
   "metadata": {},
   "outputs": [
    {
     "name": "stderr",
     "output_type": "stream",
     "text": [
      "/Users/caroline/anaconda/lib/python3.6/site-packages/sklearn/decomposition/online_lda.py:508: DeprecationWarning: The default value for 'learning_method' will be changed from 'online' to 'batch' in the release 0.20. This warning was introduced in 0.18.\n",
      "  DeprecationWarning)\n"
     ]
    },
    {
     "ename": "KeyboardInterrupt",
     "evalue": "",
     "output_type": "error",
     "traceback": [
      "\u001b[0;31m---------------------------------------------------------------------------\u001b[0m",
      "\u001b[0;31mKeyboardInterrupt\u001b[0m                         Traceback (most recent call last)",
      "\u001b[0;32m<ipython-input-192-8a56e01a6f37>\u001b[0m in \u001b[0;36m<module>\u001b[0;34m()\u001b[0m\n\u001b[0;32m----> 1\u001b[0;31m \u001b[0mLDA_batch\u001b[0m\u001b[0;34m(\u001b[0m\u001b[0mX_cv\u001b[0m\u001b[0;34m,\u001b[0m \u001b[0;36m30\u001b[0m\u001b[0;34m)\u001b[0m\u001b[0;34m\u001b[0m\u001b[0m\n\u001b[0m",
      "\u001b[0;32m<ipython-input-189-f98371f46c83>\u001b[0m in \u001b[0;36mLDA_batch\u001b[0;34m(X, n)\u001b[0m\n\u001b[1;32m      1\u001b[0m \u001b[0;32mdef\u001b[0m \u001b[0mLDA_batch\u001b[0m\u001b[0;34m(\u001b[0m\u001b[0mX\u001b[0m\u001b[0;34m,\u001b[0m \u001b[0mn\u001b[0m\u001b[0;34m)\u001b[0m\u001b[0;34m:\u001b[0m\u001b[0;34m\u001b[0m\u001b[0m\n\u001b[1;32m      2\u001b[0m     \u001b[0mlda\u001b[0m \u001b[0;34m=\u001b[0m \u001b[0mLatentDirichletAllocation\u001b[0m\u001b[0;34m(\u001b[0m\u001b[0mn_topics\u001b[0m\u001b[0;34m=\u001b[0m\u001b[0mn\u001b[0m\u001b[0;34m)\u001b[0m\u001b[0;34m\u001b[0m\u001b[0m\n\u001b[0;32m----> 3\u001b[0;31m     \u001b[0mlda\u001b[0m\u001b[0;34m.\u001b[0m\u001b[0mfit\u001b[0m\u001b[0;34m(\u001b[0m\u001b[0mX\u001b[0m\u001b[0;34m)\u001b[0m\u001b[0;34m\u001b[0m\u001b[0m\n\u001b[0m\u001b[1;32m      4\u001b[0m     \u001b[0mresults\u001b[0m \u001b[0;34m=\u001b[0m \u001b[0mpd\u001b[0m\u001b[0;34m.\u001b[0m\u001b[0mDataFrame\u001b[0m\u001b[0;34m(\u001b[0m\u001b[0mlda\u001b[0m\u001b[0;34m.\u001b[0m\u001b[0mcomponents_\u001b[0m\u001b[0;34m,\u001b[0m \u001b[0mcolumns\u001b[0m\u001b[0;34m=\u001b[0m\u001b[0mfeature_names\u001b[0m\u001b[0;34m)\u001b[0m\u001b[0;34m\u001b[0m\u001b[0m\n\u001b[1;32m      5\u001b[0m     \u001b[0mprint\u001b[0m\u001b[0;34m(\u001b[0m\u001b[0;34m'LDA for {} topics:'\u001b[0m\u001b[0;34m.\u001b[0m\u001b[0mformat\u001b[0m\u001b[0;34m(\u001b[0m\u001b[0mn\u001b[0m\u001b[0;34m)\u001b[0m\u001b[0;34m)\u001b[0m\u001b[0;34m\u001b[0m\u001b[0m\n",
      "\u001b[0;32m/Users/caroline/anaconda/lib/python3.6/site-packages/sklearn/decomposition/online_lda.py\u001b[0m in \u001b[0;36mfit\u001b[0;34m(self, X, y)\u001b[0m\n\u001b[1;32m    521\u001b[0m                     \u001b[0;32mfor\u001b[0m \u001b[0midx_slice\u001b[0m \u001b[0;32min\u001b[0m \u001b[0mgen_batches\u001b[0m\u001b[0;34m(\u001b[0m\u001b[0mn_samples\u001b[0m\u001b[0;34m,\u001b[0m \u001b[0mbatch_size\u001b[0m\u001b[0;34m)\u001b[0m\u001b[0;34m:\u001b[0m\u001b[0;34m\u001b[0m\u001b[0m\n\u001b[1;32m    522\u001b[0m                         self._em_step(X[idx_slice, :], total_samples=n_samples,\n\u001b[0;32m--> 523\u001b[0;31m                                       batch_update=False, parallel=parallel)\n\u001b[0m\u001b[1;32m    524\u001b[0m                 \u001b[0;32melse\u001b[0m\u001b[0;34m:\u001b[0m\u001b[0;34m\u001b[0m\u001b[0m\n\u001b[1;32m    525\u001b[0m                     \u001b[0;31m# batch update\u001b[0m\u001b[0;34m\u001b[0m\u001b[0;34m\u001b[0m\u001b[0m\n",
      "\u001b[0;32m/Users/caroline/anaconda/lib/python3.6/site-packages/sklearn/decomposition/online_lda.py\u001b[0m in \u001b[0;36m_em_step\u001b[0;34m(self, X, total_samples, batch_update, parallel)\u001b[0m\n\u001b[1;32m    425\u001b[0m         \u001b[0;31m# update `component_` related variables\u001b[0m\u001b[0;34m\u001b[0m\u001b[0;34m\u001b[0m\u001b[0m\n\u001b[1;32m    426\u001b[0m         self.exp_dirichlet_component_ = np.exp(\n\u001b[0;32m--> 427\u001b[0;31m             _dirichlet_expectation_2d(self.components_))\n\u001b[0m\u001b[1;32m    428\u001b[0m         \u001b[0mself\u001b[0m\u001b[0;34m.\u001b[0m\u001b[0mn_batch_iter_\u001b[0m \u001b[0;34m+=\u001b[0m \u001b[0;36m1\u001b[0m\u001b[0;34m\u001b[0m\u001b[0m\n\u001b[1;32m    429\u001b[0m         \u001b[0;32mreturn\u001b[0m\u001b[0;34m\u001b[0m\u001b[0m\n",
      "\u001b[0;31mKeyboardInterrupt\u001b[0m: "
     ]
    }
   ],
   "source": [
    "LDA_batch(X_cv, 30)"
   ]
  }
 ],
 "metadata": {
  "kernelspec": {
   "display_name": "Python 3",
   "language": "python",
   "name": "python3"
  },
  "language_info": {
   "codemirror_mode": {
    "name": "ipython",
    "version": 3
   },
   "file_extension": ".py",
   "mimetype": "text/x-python",
   "name": "python",
   "nbconvert_exporter": "python",
   "pygments_lexer": "ipython3",
   "version": "3.6.3"
  }
 },
 "nbformat": 4,
 "nbformat_minor": 2
}
