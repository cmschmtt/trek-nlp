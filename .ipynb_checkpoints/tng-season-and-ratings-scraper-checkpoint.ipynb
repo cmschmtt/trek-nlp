{
 "cells": [
  {
   "cell_type": "code",
   "execution_count": 1,
   "metadata": {
    "collapsed": true
   },
   "outputs": [],
   "source": [
    "from bs4 import BeautifulSoup, NavigableString, Tag\n",
    "import urllib\n",
    "import requests\n",
    "import re\n",
    "import nltk\n",
    "import datetime\n",
    "import re\n",
    "\n",
    "import pandas as pd"
   ]
  },
  {
   "cell_type": "code",
   "execution_count": 3,
   "metadata": {
    "collapsed": true
   },
   "outputs": [],
   "source": [
    "scr = []"
   ]
  },
  {
   "cell_type": "code",
   "execution_count": 4,
   "metadata": {
    "collapsed": true
   },
   "outputs": [],
   "source": [
    "for i in range(1, 8):\n",
    "    request = requests.get('http://www.imdb.com/title/tt0092455/episodes?season={}'.format(i))\n",
    "    scr.append(request)"
   ]
  },
  {
   "cell_type": "code",
   "execution_count": 5,
   "metadata": {},
   "outputs": [
    {
     "data": {
      "text/plain": [
       "[<Response [200]>,\n",
       " <Response [200]>,\n",
       " <Response [200]>,\n",
       " <Response [200]>,\n",
       " <Response [200]>,\n",
       " <Response [200]>,\n",
       " <Response [200]>]"
      ]
     },
     "execution_count": 5,
     "metadata": {},
     "output_type": "execute_result"
    }
   ],
   "source": [
    "scr"
   ]
  },
  {
   "cell_type": "code",
   "execution_count": 6,
   "metadata": {
    "collapsed": true
   },
   "outputs": [],
   "source": [
    "many_soups = []\n",
    "for ep in scr:\n",
    "    many_soups.append(BeautifulSoup(ep.content, \"lxml\"))"
   ]
  },
  {
   "cell_type": "code",
   "execution_count": 7,
   "metadata": {
    "collapsed": true
   },
   "outputs": [],
   "source": [
    "ep_name_list = []\n",
    "number_list = []\n",
    "date_list = []\n",
    "rating_list = []\n",
    "season_number_list = []\n",
    "\n",
    "for season in many_soups:\n",
    "    # Gets season number\n",
    "    season_tag = season.find('h3',{'id': 'episode_top'})\n",
    "    season_tag_text = season_tag.text.replace(u'\\xa0', u' ')\n",
    "    pattern = re.compile(r'[0-9]')\n",
    "    season_number = re.search(pattern, season_tag_text)\n",
    "    season_number = season_number.group(0) \n",
    "    \n",
    "    for ep in season.find_all('div', {'class': 'info'}):\n",
    "        # append ep_name\n",
    "        ep_name = ep.find('a', {'itemprop': 'name'}).text\n",
    "        ep_name_list.append(ep_name)\n",
    "        \n",
    "        # append ep number\n",
    "        number = ep.find('meta')\n",
    "        number = number.attrs['content']\n",
    "        number = int(number)\n",
    "        number_list.append(number)\n",
    "\n",
    "        # append airdate\n",
    "        date = ep.find('div', {'class': 'airdate'}).contents[0].strip()\n",
    "        date_list.append(date)\n",
    "\n",
    "        # append rating\n",
    "        rating = ep.find('span', {'class': 'ipl-rating-star__rating'}).text\n",
    "        rating = float(rating)\n",
    "        rating_list.append(rating)\n",
    "        \n",
    "        season_number_list.append(season_number)"
   ]
  },
  {
   "cell_type": "code",
   "execution_count": 8,
   "metadata": {
    "collapsed": true
   },
   "outputs": [],
   "source": [
    "imdb_data = pd.DataFrame(\n",
    "    {'season': season_number_list,\n",
    "     'number': number_list,\n",
    "    'ep_name': ep_name_list,\n",
    "    'rating': rating_list,\n",
    "     'airdate': date_list,\n",
    "    })"
   ]
  },
  {
   "cell_type": "code",
   "execution_count": 18,
   "metadata": {},
   "outputs": [
    {
     "data": {
      "text/html": [
       "<div>\n",
       "<style>\n",
       "    .dataframe thead tr:only-child th {\n",
       "        text-align: right;\n",
       "    }\n",
       "\n",
       "    .dataframe thead th {\n",
       "        text-align: left;\n",
       "    }\n",
       "\n",
       "    .dataframe tbody tr th {\n",
       "        vertical-align: top;\n",
       "    }\n",
       "</style>\n",
       "<table border=\"1\" class=\"dataframe\">\n",
       "  <thead>\n",
       "    <tr style=\"text-align: right;\">\n",
       "      <th></th>\n",
       "      <th>number</th>\n",
       "      <th>rating</th>\n",
       "    </tr>\n",
       "  </thead>\n",
       "  <tbody>\n",
       "    <tr>\n",
       "      <th>count</th>\n",
       "      <td>176.000000</td>\n",
       "      <td>176.000000</td>\n",
       "    </tr>\n",
       "    <tr>\n",
       "      <th>mean</th>\n",
       "      <td>13.107955</td>\n",
       "      <td>7.379545</td>\n",
       "    </tr>\n",
       "    <tr>\n",
       "      <th>std</th>\n",
       "      <td>7.332491</td>\n",
       "      <td>0.932727</td>\n",
       "    </tr>\n",
       "    <tr>\n",
       "      <th>min</th>\n",
       "      <td>1.000000</td>\n",
       "      <td>3.400000</td>\n",
       "    </tr>\n",
       "    <tr>\n",
       "      <th>25%</th>\n",
       "      <td>7.000000</td>\n",
       "      <td>6.675000</td>\n",
       "    </tr>\n",
       "    <tr>\n",
       "      <th>50%</th>\n",
       "      <td>13.000000</td>\n",
       "      <td>7.400000</td>\n",
       "    </tr>\n",
       "    <tr>\n",
       "      <th>75%</th>\n",
       "      <td>19.000000</td>\n",
       "      <td>8.100000</td>\n",
       "    </tr>\n",
       "    <tr>\n",
       "      <th>max</th>\n",
       "      <td>26.000000</td>\n",
       "      <td>9.400000</td>\n",
       "    </tr>\n",
       "  </tbody>\n",
       "</table>\n",
       "</div>"
      ],
      "text/plain": [
       "           number      rating\n",
       "count  176.000000  176.000000\n",
       "mean    13.107955    7.379545\n",
       "std      7.332491    0.932727\n",
       "min      1.000000    3.400000\n",
       "25%      7.000000    6.675000\n",
       "50%     13.000000    7.400000\n",
       "75%     19.000000    8.100000\n",
       "max     26.000000    9.400000"
      ]
     },
     "execution_count": 18,
     "metadata": {},
     "output_type": "execute_result"
    }
   ],
   "source": [
    "imdb_data.describe()"
   ]
  },
  {
   "cell_type": "code",
   "execution_count": 14,
   "metadata": {},
   "outputs": [
    {
     "data": {
      "text/html": [
       "<div>\n",
       "<style>\n",
       "    .dataframe thead tr:only-child th {\n",
       "        text-align: right;\n",
       "    }\n",
       "\n",
       "    .dataframe thead th {\n",
       "        text-align: left;\n",
       "    }\n",
       "\n",
       "    .dataframe tbody tr th {\n",
       "        vertical-align: top;\n",
       "    }\n",
       "</style>\n",
       "<table border=\"1\" class=\"dataframe\">\n",
       "  <thead>\n",
       "    <tr style=\"text-align: right;\">\n",
       "      <th></th>\n",
       "      <th>airdate</th>\n",
       "      <th>ep_name</th>\n",
       "      <th>number</th>\n",
       "      <th>rating</th>\n",
       "      <th>season</th>\n",
       "    </tr>\n",
       "  </thead>\n",
       "  <tbody>\n",
       "    <tr>\n",
       "      <th>171</th>\n",
       "      <td>23 Apr. 1994</td>\n",
       "      <td>Firstborn</td>\n",
       "      <td>21</td>\n",
       "      <td>6.8</td>\n",
       "      <td>7</td>\n",
       "    </tr>\n",
       "    <tr>\n",
       "      <th>172</th>\n",
       "      <td>30 Apr. 1994</td>\n",
       "      <td>Bloodlines</td>\n",
       "      <td>22</td>\n",
       "      <td>6.5</td>\n",
       "      <td>7</td>\n",
       "    </tr>\n",
       "    <tr>\n",
       "      <th>173</th>\n",
       "      <td>7 May 1994</td>\n",
       "      <td>Emergence</td>\n",
       "      <td>23</td>\n",
       "      <td>6.6</td>\n",
       "      <td>7</td>\n",
       "    </tr>\n",
       "    <tr>\n",
       "      <th>174</th>\n",
       "      <td>14 May 1994</td>\n",
       "      <td>Preemptive Strike</td>\n",
       "      <td>24</td>\n",
       "      <td>7.9</td>\n",
       "      <td>7</td>\n",
       "    </tr>\n",
       "    <tr>\n",
       "      <th>175</th>\n",
       "      <td>23 May 1994</td>\n",
       "      <td>All Good Things...</td>\n",
       "      <td>25</td>\n",
       "      <td>8.6</td>\n",
       "      <td>7</td>\n",
       "    </tr>\n",
       "  </tbody>\n",
       "</table>\n",
       "</div>"
      ],
      "text/plain": [
       "          airdate             ep_name  number  rating season\n",
       "171  23 Apr. 1994           Firstborn      21     6.8      7\n",
       "172  30 Apr. 1994          Bloodlines      22     6.5      7\n",
       "173    7 May 1994           Emergence      23     6.6      7\n",
       "174   14 May 1994   Preemptive Strike      24     7.9      7\n",
       "175   23 May 1994  All Good Things...      25     8.6      7"
      ]
     },
     "execution_count": 14,
     "metadata": {},
     "output_type": "execute_result"
    }
   ],
   "source": [
    "imdb_data.tail()"
   ]
  },
  {
   "cell_type": "code",
   "execution_count": 19,
   "metadata": {
    "collapsed": true
   },
   "outputs": [],
   "source": [
    "imdb_data['index'] = list(range(1, 177))"
   ]
  },
  {
   "cell_type": "code",
   "execution_count": 20,
   "metadata": {},
   "outputs": [
    {
     "data": {
      "text/html": [
       "<div>\n",
       "<style>\n",
       "    .dataframe thead tr:only-child th {\n",
       "        text-align: right;\n",
       "    }\n",
       "\n",
       "    .dataframe thead th {\n",
       "        text-align: left;\n",
       "    }\n",
       "\n",
       "    .dataframe tbody tr th {\n",
       "        vertical-align: top;\n",
       "    }\n",
       "</style>\n",
       "<table border=\"1\" class=\"dataframe\">\n",
       "  <thead>\n",
       "    <tr style=\"text-align: right;\">\n",
       "      <th></th>\n",
       "      <th>airdate</th>\n",
       "      <th>ep_name</th>\n",
       "      <th>number</th>\n",
       "      <th>rating</th>\n",
       "      <th>season</th>\n",
       "      <th>index</th>\n",
       "    </tr>\n",
       "  </thead>\n",
       "  <tbody>\n",
       "    <tr>\n",
       "      <th>0</th>\n",
       "      <td>26 Sep. 1987</td>\n",
       "      <td>Encounter at Farpoint</td>\n",
       "      <td>1</td>\n",
       "      <td>6.9</td>\n",
       "      <td>1</td>\n",
       "      <td>1</td>\n",
       "    </tr>\n",
       "    <tr>\n",
       "      <th>1</th>\n",
       "      <td>3 Oct. 1987</td>\n",
       "      <td>The Naked Now</td>\n",
       "      <td>2</td>\n",
       "      <td>6.6</td>\n",
       "      <td>1</td>\n",
       "      <td>2</td>\n",
       "    </tr>\n",
       "    <tr>\n",
       "      <th>2</th>\n",
       "      <td>10 Oct. 1987</td>\n",
       "      <td>Code of Honor</td>\n",
       "      <td>3</td>\n",
       "      <td>5.2</td>\n",
       "      <td>1</td>\n",
       "      <td>3</td>\n",
       "    </tr>\n",
       "    <tr>\n",
       "      <th>3</th>\n",
       "      <td>17 Oct. 1987</td>\n",
       "      <td>The Last Outpost</td>\n",
       "      <td>4</td>\n",
       "      <td>6.3</td>\n",
       "      <td>1</td>\n",
       "      <td>4</td>\n",
       "    </tr>\n",
       "    <tr>\n",
       "      <th>4</th>\n",
       "      <td>24 Oct. 1987</td>\n",
       "      <td>Where No One Has Gone Before</td>\n",
       "      <td>5</td>\n",
       "      <td>7.6</td>\n",
       "      <td>1</td>\n",
       "      <td>5</td>\n",
       "    </tr>\n",
       "  </tbody>\n",
       "</table>\n",
       "</div>"
      ],
      "text/plain": [
       "        airdate                       ep_name  number  rating season  index\n",
       "0  26 Sep. 1987         Encounter at Farpoint       1     6.9      1      1\n",
       "1   3 Oct. 1987                 The Naked Now       2     6.6      1      2\n",
       "2  10 Oct. 1987                 Code of Honor       3     5.2      1      3\n",
       "3  17 Oct. 1987              The Last Outpost       4     6.3      1      4\n",
       "4  24 Oct. 1987  Where No One Has Gone Before       5     7.6      1      5"
      ]
     },
     "execution_count": 20,
     "metadata": {},
     "output_type": "execute_result"
    }
   ],
   "source": [
    "imdb_data.head()"
   ]
  },
  {
   "cell_type": "code",
   "execution_count": 21,
   "metadata": {
    "collapsed": true
   },
   "outputs": [],
   "source": [
    "imdb_data.to_csv('tng_imdb_data.csv', index=False)"
   ]
  },
  {
   "cell_type": "code",
   "execution_count": 22,
   "metadata": {
    "collapsed": true
   },
   "outputs": [],
   "source": [
    "df_test = pd.read_csv('./tng_imdb_data.csv')"
   ]
  },
  {
   "cell_type": "code",
   "execution_count": 23,
   "metadata": {},
   "outputs": [
    {
     "data": {
      "text/html": [
       "<div>\n",
       "<style>\n",
       "    .dataframe thead tr:only-child th {\n",
       "        text-align: right;\n",
       "    }\n",
       "\n",
       "    .dataframe thead th {\n",
       "        text-align: left;\n",
       "    }\n",
       "\n",
       "    .dataframe tbody tr th {\n",
       "        vertical-align: top;\n",
       "    }\n",
       "</style>\n",
       "<table border=\"1\" class=\"dataframe\">\n",
       "  <thead>\n",
       "    <tr style=\"text-align: right;\">\n",
       "      <th></th>\n",
       "      <th>airdate</th>\n",
       "      <th>ep_name</th>\n",
       "      <th>number</th>\n",
       "      <th>rating</th>\n",
       "      <th>season</th>\n",
       "      <th>index</th>\n",
       "    </tr>\n",
       "  </thead>\n",
       "  <tbody>\n",
       "    <tr>\n",
       "      <th>0</th>\n",
       "      <td>26 Sep. 1987</td>\n",
       "      <td>Encounter at Farpoint</td>\n",
       "      <td>1</td>\n",
       "      <td>6.9</td>\n",
       "      <td>1</td>\n",
       "      <td>1</td>\n",
       "    </tr>\n",
       "    <tr>\n",
       "      <th>1</th>\n",
       "      <td>3 Oct. 1987</td>\n",
       "      <td>The Naked Now</td>\n",
       "      <td>2</td>\n",
       "      <td>6.6</td>\n",
       "      <td>1</td>\n",
       "      <td>2</td>\n",
       "    </tr>\n",
       "    <tr>\n",
       "      <th>2</th>\n",
       "      <td>10 Oct. 1987</td>\n",
       "      <td>Code of Honor</td>\n",
       "      <td>3</td>\n",
       "      <td>5.2</td>\n",
       "      <td>1</td>\n",
       "      <td>3</td>\n",
       "    </tr>\n",
       "    <tr>\n",
       "      <th>3</th>\n",
       "      <td>17 Oct. 1987</td>\n",
       "      <td>The Last Outpost</td>\n",
       "      <td>4</td>\n",
       "      <td>6.3</td>\n",
       "      <td>1</td>\n",
       "      <td>4</td>\n",
       "    </tr>\n",
       "    <tr>\n",
       "      <th>4</th>\n",
       "      <td>24 Oct. 1987</td>\n",
       "      <td>Where No One Has Gone Before</td>\n",
       "      <td>5</td>\n",
       "      <td>7.6</td>\n",
       "      <td>1</td>\n",
       "      <td>5</td>\n",
       "    </tr>\n",
       "  </tbody>\n",
       "</table>\n",
       "</div>"
      ],
      "text/plain": [
       "        airdate                       ep_name  number  rating  season  index\n",
       "0  26 Sep. 1987         Encounter at Farpoint       1     6.9       1      1\n",
       "1   3 Oct. 1987                 The Naked Now       2     6.6       1      2\n",
       "2  10 Oct. 1987                 Code of Honor       3     5.2       1      3\n",
       "3  17 Oct. 1987              The Last Outpost       4     6.3       1      4\n",
       "4  24 Oct. 1987  Where No One Has Gone Before       5     7.6       1      5"
      ]
     },
     "execution_count": 23,
     "metadata": {},
     "output_type": "execute_result"
    }
   ],
   "source": [
    "df_test.head()"
   ]
  },
  {
   "cell_type": "code",
   "execution_count": null,
   "metadata": {
    "collapsed": true
   },
   "outputs": [],
   "source": []
  }
 ],
 "metadata": {
  "kernelspec": {
   "display_name": "Python 3",
   "language": "python",
   "name": "python3"
  },
  "language_info": {
   "codemirror_mode": {
    "name": "ipython",
    "version": 3
   },
   "file_extension": ".py",
   "mimetype": "text/x-python",
   "name": "python",
   "nbconvert_exporter": "python",
   "pygments_lexer": "ipython3",
   "version": "3.6.1"
  }
 },
 "nbformat": 4,
 "nbformat_minor": 2
}
