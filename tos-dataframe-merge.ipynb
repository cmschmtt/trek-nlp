{
 "cells": [
  {
   "cell_type": "code",
   "execution_count": 1,
   "metadata": {
    "collapsed": true
   },
   "outputs": [],
   "source": [
    "import pandas as pd\n",
    "import numpy as np\n",
    "import matplotlib.pyplot as plt\n",
    "import seaborn as sns\n",
    "%matplotlib inline"
   ]
  },
  {
   "cell_type": "code",
   "execution_count": 2,
   "metadata": {
    "collapsed": true
   },
   "outputs": [],
   "source": [
    "df = pd.read_csv('./dataframe_all_tos.csv')"
   ]
  },
  {
   "cell_type": "code",
   "execution_count": 3,
   "metadata": {
    "collapsed": true
   },
   "outputs": [],
   "source": [
    "imdb_df = pd.read_csv('./tos_imdb_data.csv')"
   ]
  },
  {
   "cell_type": "code",
   "execution_count": 4,
   "metadata": {
    "collapsed": true
   },
   "outputs": [],
   "source": [
    "imdb_df.rename(columns={'ep_name': 'ep_title'}, inplace=True)"
   ]
  },
  {
   "cell_type": "code",
   "execution_count": 5,
   "metadata": {},
   "outputs": [
    {
     "data": {
      "text/html": [
       "<div>\n",
       "<style>\n",
       "    .dataframe thead tr:only-child th {\n",
       "        text-align: right;\n",
       "    }\n",
       "\n",
       "    .dataframe thead th {\n",
       "        text-align: left;\n",
       "    }\n",
       "\n",
       "    .dataframe tbody tr th {\n",
       "        vertical-align: top;\n",
       "    }\n",
       "</style>\n",
       "<table border=\"1\" class=\"dataframe\">\n",
       "  <thead>\n",
       "    <tr style=\"text-align: right;\">\n",
       "      <th></th>\n",
       "      <th>character</th>\n",
       "      <th>ep_title</th>\n",
       "      <th>text</th>\n",
       "    </tr>\n",
       "  </thead>\n",
       "  <tbody>\n",
       "    <tr>\n",
       "      <th>0</th>\n",
       "      <td>SPOCK</td>\n",
       "      <td>The Cage</td>\n",
       "      <td>Check the circuit.</td>\n",
       "    </tr>\n",
       "    <tr>\n",
       "      <th>1</th>\n",
       "      <td>SPOCK</td>\n",
       "      <td>The Cage</td>\n",
       "      <td>It can't be the screen then.</td>\n",
       "    </tr>\n",
       "    <tr>\n",
       "      <th>2</th>\n",
       "      <td>SPOCK</td>\n",
       "      <td>The Cage</td>\n",
       "      <td>Definitely something out there, Captain, heade...</td>\n",
       "    </tr>\n",
       "    <tr>\n",
       "      <th>3</th>\n",
       "      <td>SPOCK</td>\n",
       "      <td>The Cage</td>\n",
       "      <td>Their call letters check with a survey expedit...</td>\n",
       "    </tr>\n",
       "    <tr>\n",
       "      <th>4</th>\n",
       "      <td>SPOCK</td>\n",
       "      <td>The Cage</td>\n",
       "      <td>SS Columbia.</td>\n",
       "    </tr>\n",
       "  </tbody>\n",
       "</table>\n",
       "</div>"
      ],
      "text/plain": [
       "  character  ep_title                                               text\n",
       "0     SPOCK  The Cage                                 Check the circuit.\n",
       "1     SPOCK  The Cage                       It can't be the screen then.\n",
       "2     SPOCK  The Cage  Definitely something out there, Captain, heade...\n",
       "3     SPOCK  The Cage  Their call letters check with a survey expedit...\n",
       "4     SPOCK  The Cage                                       SS Columbia."
      ]
     },
     "execution_count": 5,
     "metadata": {},
     "output_type": "execute_result"
    }
   ],
   "source": [
    "df.head()"
   ]
  },
  {
   "cell_type": "code",
   "execution_count": 6,
   "metadata": {},
   "outputs": [
    {
     "data": {
      "text/html": [
       "<div>\n",
       "<style>\n",
       "    .dataframe thead tr:only-child th {\n",
       "        text-align: right;\n",
       "    }\n",
       "\n",
       "    .dataframe thead th {\n",
       "        text-align: left;\n",
       "    }\n",
       "\n",
       "    .dataframe tbody tr th {\n",
       "        vertical-align: top;\n",
       "    }\n",
       "</style>\n",
       "<table border=\"1\" class=\"dataframe\">\n",
       "  <thead>\n",
       "    <tr style=\"text-align: right;\">\n",
       "      <th></th>\n",
       "      <th>airdate</th>\n",
       "      <th>ep_title</th>\n",
       "      <th>number</th>\n",
       "      <th>rating</th>\n",
       "      <th>season</th>\n",
       "      <th>index</th>\n",
       "    </tr>\n",
       "  </thead>\n",
       "  <tbody>\n",
       "    <tr>\n",
       "      <th>0</th>\n",
       "      <td>27 Nov. 1988</td>\n",
       "      <td>The Cage</td>\n",
       "      <td>0</td>\n",
       "      <td>7.7</td>\n",
       "      <td>1</td>\n",
       "      <td>1</td>\n",
       "    </tr>\n",
       "    <tr>\n",
       "      <th>1</th>\n",
       "      <td>8 Sep. 1966</td>\n",
       "      <td>The Man Trap</td>\n",
       "      <td>1</td>\n",
       "      <td>7.3</td>\n",
       "      <td>1</td>\n",
       "      <td>2</td>\n",
       "    </tr>\n",
       "    <tr>\n",
       "      <th>2</th>\n",
       "      <td>15 Sep. 1966</td>\n",
       "      <td>Charlie X</td>\n",
       "      <td>2</td>\n",
       "      <td>7.2</td>\n",
       "      <td>1</td>\n",
       "      <td>3</td>\n",
       "    </tr>\n",
       "    <tr>\n",
       "      <th>3</th>\n",
       "      <td>22 Sep. 1966</td>\n",
       "      <td>Where No Man Has Gone Before</td>\n",
       "      <td>3</td>\n",
       "      <td>7.8</td>\n",
       "      <td>1</td>\n",
       "      <td>4</td>\n",
       "    </tr>\n",
       "    <tr>\n",
       "      <th>4</th>\n",
       "      <td>29 Sep. 1966</td>\n",
       "      <td>The Naked Time</td>\n",
       "      <td>4</td>\n",
       "      <td>8.0</td>\n",
       "      <td>1</td>\n",
       "      <td>5</td>\n",
       "    </tr>\n",
       "  </tbody>\n",
       "</table>\n",
       "</div>"
      ],
      "text/plain": [
       "        airdate                      ep_title  number  rating  season  index\n",
       "0  27 Nov. 1988                      The Cage       0     7.7       1      1\n",
       "1   8 Sep. 1966                  The Man Trap       1     7.3       1      2\n",
       "2  15 Sep. 1966                     Charlie X       2     7.2       1      3\n",
       "3  22 Sep. 1966  Where No Man Has Gone Before       3     7.8       1      4\n",
       "4  29 Sep. 1966                The Naked Time       4     8.0       1      5"
      ]
     },
     "execution_count": 6,
     "metadata": {},
     "output_type": "execute_result"
    }
   ],
   "source": [
    "imdb_df.head()"
   ]
  },
  {
   "cell_type": "code",
   "execution_count": 7,
   "metadata": {
    "collapsed": true
   },
   "outputs": [],
   "source": [
    "df['ep_title_formatted'] = [''.join(e for e in title if e.isalnum()).lower() for title in df['ep_title']]\n",
    "imdb_df['ep_title_formatted'] = [''.join(e for e in title if e.isalnum()).lower() for title in imdb_df['ep_title']]"
   ]
  },
  {
   "cell_type": "code",
   "execution_count": 8,
   "metadata": {},
   "outputs": [
    {
     "data": {
      "text/html": [
       "<div>\n",
       "<style>\n",
       "    .dataframe thead tr:only-child th {\n",
       "        text-align: right;\n",
       "    }\n",
       "\n",
       "    .dataframe thead th {\n",
       "        text-align: left;\n",
       "    }\n",
       "\n",
       "    .dataframe tbody tr th {\n",
       "        vertical-align: top;\n",
       "    }\n",
       "</style>\n",
       "<table border=\"1\" class=\"dataframe\">\n",
       "  <thead>\n",
       "    <tr style=\"text-align: right;\">\n",
       "      <th></th>\n",
       "      <th>character</th>\n",
       "      <th>ep_title</th>\n",
       "      <th>text</th>\n",
       "      <th>ep_title_formatted</th>\n",
       "    </tr>\n",
       "  </thead>\n",
       "  <tbody>\n",
       "    <tr>\n",
       "      <th>0</th>\n",
       "      <td>SPOCK</td>\n",
       "      <td>The Cage</td>\n",
       "      <td>Check the circuit.</td>\n",
       "      <td>thecage</td>\n",
       "    </tr>\n",
       "    <tr>\n",
       "      <th>1</th>\n",
       "      <td>SPOCK</td>\n",
       "      <td>The Cage</td>\n",
       "      <td>It can't be the screen then.</td>\n",
       "      <td>thecage</td>\n",
       "    </tr>\n",
       "    <tr>\n",
       "      <th>2</th>\n",
       "      <td>SPOCK</td>\n",
       "      <td>The Cage</td>\n",
       "      <td>Definitely something out there, Captain, heade...</td>\n",
       "      <td>thecage</td>\n",
       "    </tr>\n",
       "    <tr>\n",
       "      <th>3</th>\n",
       "      <td>SPOCK</td>\n",
       "      <td>The Cage</td>\n",
       "      <td>Their call letters check with a survey expedit...</td>\n",
       "      <td>thecage</td>\n",
       "    </tr>\n",
       "    <tr>\n",
       "      <th>4</th>\n",
       "      <td>SPOCK</td>\n",
       "      <td>The Cage</td>\n",
       "      <td>SS Columbia.</td>\n",
       "      <td>thecage</td>\n",
       "    </tr>\n",
       "  </tbody>\n",
       "</table>\n",
       "</div>"
      ],
      "text/plain": [
       "  character  ep_title                                               text  \\\n",
       "0     SPOCK  The Cage                                 Check the circuit.   \n",
       "1     SPOCK  The Cage                       It can't be the screen then.   \n",
       "2     SPOCK  The Cage  Definitely something out there, Captain, heade...   \n",
       "3     SPOCK  The Cage  Their call letters check with a survey expedit...   \n",
       "4     SPOCK  The Cage                                       SS Columbia.   \n",
       "\n",
       "  ep_title_formatted  \n",
       "0            thecage  \n",
       "1            thecage  \n",
       "2            thecage  \n",
       "3            thecage  \n",
       "4            thecage  "
      ]
     },
     "execution_count": 8,
     "metadata": {},
     "output_type": "execute_result"
    }
   ],
   "source": [
    "df.head()"
   ]
  },
  {
   "cell_type": "code",
   "execution_count": 9,
   "metadata": {},
   "outputs": [
    {
     "data": {
      "text/html": [
       "<div>\n",
       "<style>\n",
       "    .dataframe thead tr:only-child th {\n",
       "        text-align: right;\n",
       "    }\n",
       "\n",
       "    .dataframe thead th {\n",
       "        text-align: left;\n",
       "    }\n",
       "\n",
       "    .dataframe tbody tr th {\n",
       "        vertical-align: top;\n",
       "    }\n",
       "</style>\n",
       "<table border=\"1\" class=\"dataframe\">\n",
       "  <thead>\n",
       "    <tr style=\"text-align: right;\">\n",
       "      <th></th>\n",
       "      <th>airdate</th>\n",
       "      <th>ep_title</th>\n",
       "      <th>number</th>\n",
       "      <th>rating</th>\n",
       "      <th>season</th>\n",
       "      <th>index</th>\n",
       "      <th>ep_title_formatted</th>\n",
       "    </tr>\n",
       "  </thead>\n",
       "  <tbody>\n",
       "    <tr>\n",
       "      <th>0</th>\n",
       "      <td>27 Nov. 1988</td>\n",
       "      <td>The Cage</td>\n",
       "      <td>0</td>\n",
       "      <td>7.7</td>\n",
       "      <td>1</td>\n",
       "      <td>1</td>\n",
       "      <td>thecage</td>\n",
       "    </tr>\n",
       "    <tr>\n",
       "      <th>1</th>\n",
       "      <td>8 Sep. 1966</td>\n",
       "      <td>The Man Trap</td>\n",
       "      <td>1</td>\n",
       "      <td>7.3</td>\n",
       "      <td>1</td>\n",
       "      <td>2</td>\n",
       "      <td>themantrap</td>\n",
       "    </tr>\n",
       "    <tr>\n",
       "      <th>2</th>\n",
       "      <td>15 Sep. 1966</td>\n",
       "      <td>Charlie X</td>\n",
       "      <td>2</td>\n",
       "      <td>7.2</td>\n",
       "      <td>1</td>\n",
       "      <td>3</td>\n",
       "      <td>charliex</td>\n",
       "    </tr>\n",
       "    <tr>\n",
       "      <th>3</th>\n",
       "      <td>22 Sep. 1966</td>\n",
       "      <td>Where No Man Has Gone Before</td>\n",
       "      <td>3</td>\n",
       "      <td>7.8</td>\n",
       "      <td>1</td>\n",
       "      <td>4</td>\n",
       "      <td>wherenomanhasgonebefore</td>\n",
       "    </tr>\n",
       "    <tr>\n",
       "      <th>4</th>\n",
       "      <td>29 Sep. 1966</td>\n",
       "      <td>The Naked Time</td>\n",
       "      <td>4</td>\n",
       "      <td>8.0</td>\n",
       "      <td>1</td>\n",
       "      <td>5</td>\n",
       "      <td>thenakedtime</td>\n",
       "    </tr>\n",
       "  </tbody>\n",
       "</table>\n",
       "</div>"
      ],
      "text/plain": [
       "        airdate                      ep_title  number  rating  season  index  \\\n",
       "0  27 Nov. 1988                      The Cage       0     7.7       1      1   \n",
       "1   8 Sep. 1966                  The Man Trap       1     7.3       1      2   \n",
       "2  15 Sep. 1966                     Charlie X       2     7.2       1      3   \n",
       "3  22 Sep. 1966  Where No Man Has Gone Before       3     7.8       1      4   \n",
       "4  29 Sep. 1966                The Naked Time       4     8.0       1      5   \n",
       "\n",
       "        ep_title_formatted  \n",
       "0                  thecage  \n",
       "1               themantrap  \n",
       "2                 charliex  \n",
       "3  wherenomanhasgonebefore  \n",
       "4             thenakedtime  "
      ]
     },
     "execution_count": 9,
     "metadata": {},
     "output_type": "execute_result"
    }
   ],
   "source": [
    "imdb_df.head()"
   ]
  },
  {
   "cell_type": "code",
   "execution_count": 30,
   "metadata": {},
   "outputs": [
    {
     "data": {
      "text/plain": [
       "set()"
      ]
     },
     "execution_count": 30,
     "metadata": {},
     "output_type": "execute_result"
    }
   ],
   "source": [
    "set(df['ep_title_formatted']) ^ set(imdb_df['ep_title_formatted'])"
   ]
  },
  {
   "cell_type": "code",
   "execution_count": 18,
   "metadata": {
    "collapsed": true
   },
   "outputs": [],
   "source": [
    "imdb_set = set(imdb_df['ep_title_formatted'])\n",
    "df_set = set(df['ep_title_formatted'])"
   ]
  },
  {
   "cell_type": "code",
   "execution_count": 19,
   "metadata": {},
   "outputs": [
    {
     "name": "stdout",
     "output_type": "stream",
     "text": [
      "themenageriepartii\n"
     ]
    }
   ],
   "source": [
    "imdb_replace = []\n",
    "for ep in imdb_set:\n",
    "    if ep not in df_set:\n",
    "        imdb_replace.append(ep)\n",
    "        print(ep)"
   ]
  },
  {
   "cell_type": "code",
   "execution_count": null,
   "metadata": {
    "collapsed": true
   },
   "outputs": [],
   "source": [
    "imdb_df.drop()"
   ]
  },
  {
   "cell_type": "code",
   "execution_count": 27,
   "metadata": {},
   "outputs": [
    {
     "data": {
      "text/html": [
       "<div>\n",
       "<style>\n",
       "    .dataframe thead tr:only-child th {\n",
       "        text-align: right;\n",
       "    }\n",
       "\n",
       "    .dataframe thead th {\n",
       "        text-align: left;\n",
       "    }\n",
       "\n",
       "    .dataframe tbody tr th {\n",
       "        vertical-align: top;\n",
       "    }\n",
       "</style>\n",
       "<table border=\"1\" class=\"dataframe\">\n",
       "  <thead>\n",
       "    <tr style=\"text-align: right;\">\n",
       "      <th></th>\n",
       "      <th>airdate</th>\n",
       "      <th>ep_title</th>\n",
       "      <th>number</th>\n",
       "      <th>rating</th>\n",
       "      <th>season</th>\n",
       "      <th>index</th>\n",
       "      <th>ep_title_formatted</th>\n",
       "    </tr>\n",
       "  </thead>\n",
       "  <tbody>\n",
       "    <tr>\n",
       "      <th>12</th>\n",
       "      <td>24 Nov. 1966</td>\n",
       "      <td>The Menagerie: Part II</td>\n",
       "      <td>12</td>\n",
       "      <td>8.3</td>\n",
       "      <td>1</td>\n",
       "      <td>13</td>\n",
       "      <td>themenageriepartii</td>\n",
       "    </tr>\n",
       "  </tbody>\n",
       "</table>\n",
       "</div>"
      ],
      "text/plain": [
       "         airdate                ep_title  number  rating  season  index  \\\n",
       "12  24 Nov. 1966  The Menagerie: Part II      12     8.3       1     13   \n",
       "\n",
       "    ep_title_formatted  \n",
       "12  themenageriepartii  "
      ]
     },
     "execution_count": 27,
     "metadata": {},
     "output_type": "execute_result"
    }
   ],
   "source": [
    "imdb_df.loc[imdb_df['ep_title_formatted'] == 'themenageriepartii']"
   ]
  },
  {
   "cell_type": "code",
   "execution_count": 29,
   "metadata": {
    "collapsed": true
   },
   "outputs": [],
   "source": [
    "imdb_df.drop(12, inplace=True)"
   ]
  },
  {
   "cell_type": "code",
   "execution_count": 23,
   "metadata": {},
   "outputs": [
    {
     "data": {
      "text/html": [
       "<div>\n",
       "<style>\n",
       "    .dataframe thead tr:only-child th {\n",
       "        text-align: right;\n",
       "    }\n",
       "\n",
       "    .dataframe thead th {\n",
       "        text-align: left;\n",
       "    }\n",
       "\n",
       "    .dataframe tbody tr th {\n",
       "        vertical-align: top;\n",
       "    }\n",
       "</style>\n",
       "<table border=\"1\" class=\"dataframe\">\n",
       "  <thead>\n",
       "    <tr style=\"text-align: right;\">\n",
       "      <th></th>\n",
       "      <th>airdate</th>\n",
       "      <th>ep_title</th>\n",
       "      <th>number</th>\n",
       "      <th>rating</th>\n",
       "      <th>season</th>\n",
       "      <th>index</th>\n",
       "      <th>ep_title_formatted</th>\n",
       "    </tr>\n",
       "  </thead>\n",
       "  <tbody>\n",
       "    <tr>\n",
       "      <th>0</th>\n",
       "      <td>27 Nov. 1988</td>\n",
       "      <td>The Cage</td>\n",
       "      <td>0</td>\n",
       "      <td>7.7</td>\n",
       "      <td>1</td>\n",
       "      <td>1</td>\n",
       "      <td>thecage</td>\n",
       "    </tr>\n",
       "    <tr>\n",
       "      <th>1</th>\n",
       "      <td>8 Sep. 1966</td>\n",
       "      <td>The Man Trap</td>\n",
       "      <td>1</td>\n",
       "      <td>7.3</td>\n",
       "      <td>1</td>\n",
       "      <td>2</td>\n",
       "      <td>themantrap</td>\n",
       "    </tr>\n",
       "    <tr>\n",
       "      <th>2</th>\n",
       "      <td>15 Sep. 1966</td>\n",
       "      <td>Charlie X</td>\n",
       "      <td>2</td>\n",
       "      <td>7.2</td>\n",
       "      <td>1</td>\n",
       "      <td>3</td>\n",
       "      <td>charliex</td>\n",
       "    </tr>\n",
       "    <tr>\n",
       "      <th>3</th>\n",
       "      <td>22 Sep. 1966</td>\n",
       "      <td>Where No Man Has Gone Before</td>\n",
       "      <td>3</td>\n",
       "      <td>7.8</td>\n",
       "      <td>1</td>\n",
       "      <td>4</td>\n",
       "      <td>wherenomanhasgonebefore</td>\n",
       "    </tr>\n",
       "    <tr>\n",
       "      <th>4</th>\n",
       "      <td>29 Sep. 1966</td>\n",
       "      <td>The Naked Time</td>\n",
       "      <td>4</td>\n",
       "      <td>8.0</td>\n",
       "      <td>1</td>\n",
       "      <td>5</td>\n",
       "      <td>thenakedtime</td>\n",
       "    </tr>\n",
       "  </tbody>\n",
       "</table>\n",
       "</div>"
      ],
      "text/plain": [
       "        airdate                      ep_title  number  rating  season  index  \\\n",
       "0  27 Nov. 1988                      The Cage       0     7.7       1      1   \n",
       "1   8 Sep. 1966                  The Man Trap       1     7.3       1      2   \n",
       "2  15 Sep. 1966                     Charlie X       2     7.2       1      3   \n",
       "3  22 Sep. 1966  Where No Man Has Gone Before       3     7.8       1      4   \n",
       "4  29 Sep. 1966                The Naked Time       4     8.0       1      5   \n",
       "\n",
       "        ep_title_formatted  \n",
       "0                  thecage  \n",
       "1               themantrap  \n",
       "2                 charliex  \n",
       "3  wherenomanhasgonebefore  \n",
       "4             thenakedtime  "
      ]
     },
     "execution_count": 23,
     "metadata": {},
     "output_type": "execute_result"
    }
   ],
   "source": [
    "imdb_df.head()"
   ]
  },
  {
   "cell_type": "code",
   "execution_count": 21,
   "metadata": {},
   "outputs": [
    {
     "data": {
      "text/plain": [
       "array(['thecage', 'wherenomanhasgonebefore', 'thecorbomitemaneuver',\n",
       "       'muddswomen', 'theenemywithin', 'themantrap', 'thenakedtime',\n",
       "       'charliex', 'balanceofterror', 'whatarelittlegirlsmadeof',\n",
       "       'daggerofthemind', 'miri', 'theconscienceoftheking',\n",
       "       'thegalileoseven', 'courtmartial', 'themenagerieparti',\n",
       "       'shoreleave', 'thesquireofgothos', 'arena', 'thealternativefactor',\n",
       "       'tomorrowisyesterday', 'thereturnofthearchons',\n",
       "       'atasteofarmageddon', 'spaceseed', 'thissideofparadise',\n",
       "       'thedevilinthedark', 'errandofmercy', 'thecityontheedgeofforever',\n",
       "       'operationannihilate', 'catspaw', 'metamorphosis', 'fridayschild',\n",
       "       'whomournsforadonais', 'amoktime', 'thedoomsdaymachine',\n",
       "       'wolfinthefold', 'thechangeling', 'theapple', 'mirrormirror',\n",
       "       'thedeadlyyears', 'imudd', 'thetroublewithtribbles',\n",
       "       'breadandcircuses', 'journeytobabel', 'aprivatelittlewar',\n",
       "       'thegamestersoftriskelion', 'obsession', 'theimmunitysyndrome',\n",
       "       'apieceoftheaction', 'byanyothername', 'returntotomorrow',\n",
       "       'patternsofforce', 'theultimatecomputer', 'theomegaglory',\n",
       "       'assignmentearth', 'spectreofthegun', 'elaanoftroyius',\n",
       "       'theparadisesyndrome', 'theenterpriseincident',\n",
       "       'andthechildrenshalllead', 'spocksbrain', 'isthereintruthnobeauty',\n",
       "       'theempath', 'thetholianweb',\n",
       "       'fortheworldishollowandihavetouchedthesky', 'dayofthedove',\n",
       "       'platosstepchildren', 'winkofaneye', 'thatwhichsurvives',\n",
       "       'letthatbeyourlastbattlefield', 'whomgodsdestroy',\n",
       "       'themarkofgideon', 'thelightsofzetar', 'thecloudminders',\n",
       "       'thewaytoeden', 'requiemformethuselah', 'thesavagecurtain',\n",
       "       'allouryesterdays', 'turnaboutintruder'], dtype=object)"
      ]
     },
     "execution_count": 21,
     "metadata": {},
     "output_type": "execute_result"
    }
   ],
   "source": [
    "df['ep_title_formatted'].unique()"
   ]
  },
  {
   "cell_type": "code",
   "execution_count": 20,
   "metadata": {
    "collapsed": true
   },
   "outputs": [],
   "source": [
    "df_replace = []\n",
    "for ep in df_set:\n",
    "    if ep not in imdb_set:\n",
    "        df_replace.append(ep)\n",
    "        print(ep)"
   ]
  },
  {
   "cell_type": "code",
   "execution_count": 14,
   "metadata": {
    "collapsed": true
   },
   "outputs": [],
   "source": [
    "df.replace(to_replace='thedayofthedove', value = 'dayofthedove', inplace=True)\n",
    "df.replace(to_replace='themenageriepart1', value = 'themenagerieparti', inplace=True)\n",
    "#df.replace(to_replace='thedayofthedove', value = 'dayofthedove', inplace=True)"
   ]
  },
  {
   "cell_type": "code",
   "execution_count": 31,
   "metadata": {
    "collapsed": true
   },
   "outputs": [],
   "source": [
    "merged_df = pd.merge(df, imdb_df, on='ep_title_formatted', how='outer')"
   ]
  },
  {
   "cell_type": "code",
   "execution_count": 32,
   "metadata": {},
   "outputs": [
    {
     "data": {
      "text/html": [
       "<div>\n",
       "<style>\n",
       "    .dataframe thead tr:only-child th {\n",
       "        text-align: right;\n",
       "    }\n",
       "\n",
       "    .dataframe thead th {\n",
       "        text-align: left;\n",
       "    }\n",
       "\n",
       "    .dataframe tbody tr th {\n",
       "        vertical-align: top;\n",
       "    }\n",
       "</style>\n",
       "<table border=\"1\" class=\"dataframe\">\n",
       "  <thead>\n",
       "    <tr style=\"text-align: right;\">\n",
       "      <th></th>\n",
       "      <th>character</th>\n",
       "      <th>ep_title_x</th>\n",
       "      <th>text</th>\n",
       "      <th>ep_title_formatted</th>\n",
       "      <th>airdate</th>\n",
       "      <th>ep_title_y</th>\n",
       "      <th>number</th>\n",
       "      <th>rating</th>\n",
       "      <th>season</th>\n",
       "      <th>index</th>\n",
       "    </tr>\n",
       "  </thead>\n",
       "  <tbody>\n",
       "    <tr>\n",
       "      <th>0</th>\n",
       "      <td>SPOCK</td>\n",
       "      <td>The Cage</td>\n",
       "      <td>Check the circuit.</td>\n",
       "      <td>thecage</td>\n",
       "      <td>27 Nov. 1988</td>\n",
       "      <td>The Cage</td>\n",
       "      <td>0</td>\n",
       "      <td>7.7</td>\n",
       "      <td>1</td>\n",
       "      <td>1</td>\n",
       "    </tr>\n",
       "    <tr>\n",
       "      <th>1</th>\n",
       "      <td>SPOCK</td>\n",
       "      <td>The Cage</td>\n",
       "      <td>It can't be the screen then.</td>\n",
       "      <td>thecage</td>\n",
       "      <td>27 Nov. 1988</td>\n",
       "      <td>The Cage</td>\n",
       "      <td>0</td>\n",
       "      <td>7.7</td>\n",
       "      <td>1</td>\n",
       "      <td>1</td>\n",
       "    </tr>\n",
       "    <tr>\n",
       "      <th>2</th>\n",
       "      <td>SPOCK</td>\n",
       "      <td>The Cage</td>\n",
       "      <td>Definitely something out there, Captain, heade...</td>\n",
       "      <td>thecage</td>\n",
       "      <td>27 Nov. 1988</td>\n",
       "      <td>The Cage</td>\n",
       "      <td>0</td>\n",
       "      <td>7.7</td>\n",
       "      <td>1</td>\n",
       "      <td>1</td>\n",
       "    </tr>\n",
       "    <tr>\n",
       "      <th>3</th>\n",
       "      <td>SPOCK</td>\n",
       "      <td>The Cage</td>\n",
       "      <td>Their call letters check with a survey expedit...</td>\n",
       "      <td>thecage</td>\n",
       "      <td>27 Nov. 1988</td>\n",
       "      <td>The Cage</td>\n",
       "      <td>0</td>\n",
       "      <td>7.7</td>\n",
       "      <td>1</td>\n",
       "      <td>1</td>\n",
       "    </tr>\n",
       "    <tr>\n",
       "      <th>4</th>\n",
       "      <td>SPOCK</td>\n",
       "      <td>The Cage</td>\n",
       "      <td>SS Columbia.</td>\n",
       "      <td>thecage</td>\n",
       "      <td>27 Nov. 1988</td>\n",
       "      <td>The Cage</td>\n",
       "      <td>0</td>\n",
       "      <td>7.7</td>\n",
       "      <td>1</td>\n",
       "      <td>1</td>\n",
       "    </tr>\n",
       "  </tbody>\n",
       "</table>\n",
       "</div>"
      ],
      "text/plain": [
       "  character ep_title_x                                               text  \\\n",
       "0     SPOCK   The Cage                                 Check the circuit.   \n",
       "1     SPOCK   The Cage                       It can't be the screen then.   \n",
       "2     SPOCK   The Cage  Definitely something out there, Captain, heade...   \n",
       "3     SPOCK   The Cage  Their call letters check with a survey expedit...   \n",
       "4     SPOCK   The Cage                                       SS Columbia.   \n",
       "\n",
       "  ep_title_formatted       airdate ep_title_y  number  rating  season  index  \n",
       "0            thecage  27 Nov. 1988   The Cage       0     7.7       1      1  \n",
       "1            thecage  27 Nov. 1988   The Cage       0     7.7       1      1  \n",
       "2            thecage  27 Nov. 1988   The Cage       0     7.7       1      1  \n",
       "3            thecage  27 Nov. 1988   The Cage       0     7.7       1      1  \n",
       "4            thecage  27 Nov. 1988   The Cage       0     7.7       1      1  "
      ]
     },
     "execution_count": 32,
     "metadata": {},
     "output_type": "execute_result"
    }
   ],
   "source": [
    "merged_df.head()"
   ]
  },
  {
   "cell_type": "code",
   "execution_count": 37,
   "metadata": {
    "collapsed": true
   },
   "outputs": [],
   "source": [
    "merged_df.to_csv('merged_tos.csv', index=False)"
   ]
  },
  {
   "cell_type": "code",
   "execution_count": 38,
   "metadata": {
    "collapsed": true
   },
   "outputs": [],
   "source": [
    "df_test = pd.read_csv('./merged_tos.csv')"
   ]
  },
  {
   "cell_type": "code",
   "execution_count": 39,
   "metadata": {},
   "outputs": [
    {
     "data": {
      "text/html": [
       "<div>\n",
       "<style>\n",
       "    .dataframe thead tr:only-child th {\n",
       "        text-align: right;\n",
       "    }\n",
       "\n",
       "    .dataframe thead th {\n",
       "        text-align: left;\n",
       "    }\n",
       "\n",
       "    .dataframe tbody tr th {\n",
       "        vertical-align: top;\n",
       "    }\n",
       "</style>\n",
       "<table border=\"1\" class=\"dataframe\">\n",
       "  <thead>\n",
       "    <tr style=\"text-align: right;\">\n",
       "      <th></th>\n",
       "      <th>character</th>\n",
       "      <th>ep_title_x</th>\n",
       "      <th>text</th>\n",
       "      <th>ep_title_formatted</th>\n",
       "      <th>airdate</th>\n",
       "      <th>ep_title_y</th>\n",
       "      <th>number</th>\n",
       "      <th>rating</th>\n",
       "      <th>season</th>\n",
       "      <th>index</th>\n",
       "    </tr>\n",
       "  </thead>\n",
       "  <tbody>\n",
       "    <tr>\n",
       "      <th>0</th>\n",
       "      <td>SPOCK</td>\n",
       "      <td>The Cage</td>\n",
       "      <td>Check the circuit.</td>\n",
       "      <td>thecage</td>\n",
       "      <td>27 Nov. 1988</td>\n",
       "      <td>The Cage</td>\n",
       "      <td>0</td>\n",
       "      <td>7.7</td>\n",
       "      <td>1</td>\n",
       "      <td>1</td>\n",
       "    </tr>\n",
       "    <tr>\n",
       "      <th>1</th>\n",
       "      <td>SPOCK</td>\n",
       "      <td>The Cage</td>\n",
       "      <td>It can't be the screen then.</td>\n",
       "      <td>thecage</td>\n",
       "      <td>27 Nov. 1988</td>\n",
       "      <td>The Cage</td>\n",
       "      <td>0</td>\n",
       "      <td>7.7</td>\n",
       "      <td>1</td>\n",
       "      <td>1</td>\n",
       "    </tr>\n",
       "    <tr>\n",
       "      <th>2</th>\n",
       "      <td>SPOCK</td>\n",
       "      <td>The Cage</td>\n",
       "      <td>Definitely something out there, Captain, heade...</td>\n",
       "      <td>thecage</td>\n",
       "      <td>27 Nov. 1988</td>\n",
       "      <td>The Cage</td>\n",
       "      <td>0</td>\n",
       "      <td>7.7</td>\n",
       "      <td>1</td>\n",
       "      <td>1</td>\n",
       "    </tr>\n",
       "    <tr>\n",
       "      <th>3</th>\n",
       "      <td>SPOCK</td>\n",
       "      <td>The Cage</td>\n",
       "      <td>Their call letters check with a survey expedit...</td>\n",
       "      <td>thecage</td>\n",
       "      <td>27 Nov. 1988</td>\n",
       "      <td>The Cage</td>\n",
       "      <td>0</td>\n",
       "      <td>7.7</td>\n",
       "      <td>1</td>\n",
       "      <td>1</td>\n",
       "    </tr>\n",
       "    <tr>\n",
       "      <th>4</th>\n",
       "      <td>SPOCK</td>\n",
       "      <td>The Cage</td>\n",
       "      <td>SS Columbia.</td>\n",
       "      <td>thecage</td>\n",
       "      <td>27 Nov. 1988</td>\n",
       "      <td>The Cage</td>\n",
       "      <td>0</td>\n",
       "      <td>7.7</td>\n",
       "      <td>1</td>\n",
       "      <td>1</td>\n",
       "    </tr>\n",
       "  </tbody>\n",
       "</table>\n",
       "</div>"
      ],
      "text/plain": [
       "  character ep_title_x                                               text  \\\n",
       "0     SPOCK   The Cage                                 Check the circuit.   \n",
       "1     SPOCK   The Cage                       It can't be the screen then.   \n",
       "2     SPOCK   The Cage  Definitely something out there, Captain, heade...   \n",
       "3     SPOCK   The Cage  Their call letters check with a survey expedit...   \n",
       "4     SPOCK   The Cage                                       SS Columbia.   \n",
       "\n",
       "  ep_title_formatted       airdate ep_title_y  number  rating  season  index  \n",
       "0            thecage  27 Nov. 1988   The Cage       0     7.7       1      1  \n",
       "1            thecage  27 Nov. 1988   The Cage       0     7.7       1      1  \n",
       "2            thecage  27 Nov. 1988   The Cage       0     7.7       1      1  \n",
       "3            thecage  27 Nov. 1988   The Cage       0     7.7       1      1  \n",
       "4            thecage  27 Nov. 1988   The Cage       0     7.7       1      1  "
      ]
     },
     "execution_count": 39,
     "metadata": {},
     "output_type": "execute_result"
    }
   ],
   "source": [
    "df_test.head()"
   ]
  },
  {
   "cell_type": "code",
   "execution_count": null,
   "metadata": {
    "collapsed": true
   },
   "outputs": [],
   "source": []
  }
 ],
 "metadata": {
  "kernelspec": {
   "display_name": "Python 3",
   "language": "python",
   "name": "python3"
  },
  "language_info": {
   "codemirror_mode": {
    "name": "ipython",
    "version": 3
   },
   "file_extension": ".py",
   "mimetype": "text/x-python",
   "name": "python",
   "nbconvert_exporter": "python",
   "pygments_lexer": "ipython3",
   "version": "3.6.1"
  }
 },
 "nbformat": 4,
 "nbformat_minor": 2
}
