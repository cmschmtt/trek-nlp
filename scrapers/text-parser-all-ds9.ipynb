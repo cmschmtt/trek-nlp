{
 "cells": [
  {
   "cell_type": "code",
   "execution_count": 1,
   "metadata": {
    "collapsed": true
   },
   "outputs": [],
   "source": [
    "from bs4 import BeautifulSoup, NavigableString, Tag\n",
    "import urllib\n",
    "import requests\n",
    "import re\n",
    "import nltk\n",
    "\n",
    "import pandas as pd"
   ]
  },
  {
   "cell_type": "code",
   "execution_count": 28,
   "metadata": {
    "collapsed": true
   },
   "outputs": [],
   "source": [
    "scr = []\n",
    "# 401,576\n",
    "for ep in range(401,576):\n",
    "    url = \"http://www.chakoteya.net/DS9/{}.htm\".format(ep)\n",
    "    try:\n",
    "        scr.append(urllib.request.urlopen(url).read())\n",
    "    except urllib.request.HTTPError as err:\n",
    "        if err.code == 404:\n",
    "            pass"
   ]
  },
  {
   "cell_type": "code",
   "execution_count": 29,
   "metadata": {
    "collapsed": true
   },
   "outputs": [],
   "source": [
    "many_soups = []\n",
    "for ep in scr:\n",
    "    many_soups.append(BeautifulSoup(ep, \"lxml\"))"
   ]
  },
  {
   "cell_type": "code",
   "execution_count": 1,
   "metadata": {},
   "outputs": [
    {
     "ename": "NameError",
     "evalue": "name 'many_soups' is not defined",
     "output_type": "error",
     "traceback": [
      "\u001b[0;31m---------------------------------------------------------------------------\u001b[0m",
      "\u001b[0;31mNameError\u001b[0m                                 Traceback (most recent call last)",
      "\u001b[0;32m<ipython-input-1-a8f82a996fb6>\u001b[0m in \u001b[0;36m<module>\u001b[0;34m()\u001b[0m\n\u001b[0;32m----> 1\u001b[0;31m \u001b[0mmany_soups\u001b[0m\u001b[0;34m[\u001b[0m\u001b[0;36m0\u001b[0m\u001b[0;34m]\u001b[0m\u001b[0;34m.\u001b[0m\u001b[0mb\u001b[0m\u001b[0;34m.\u001b[0m\u001b[0mstring\u001b[0m\u001b[0;34m\u001b[0m\u001b[0m\n\u001b[0m",
      "\u001b[0;31mNameError\u001b[0m: name 'many_soups' is not defined"
     ]
    }
   ],
   "source": [
    "many_soups[0].b.string"
   ]
  },
  {
   "cell_type": "code",
   "execution_count": null,
   "metadata": {
    "collapsed": true
   },
   "outputs": [],
   "source": [
    "char_dict = {}"
   ]
  },
  {
   "cell_type": "code",
   "execution_count": 21,
   "metadata": {
    "collapsed": true
   },
   "outputs": [],
   "source": [
    "sent_tokenizer = nltk.tokenize.sent_tokenize\n",
    "\n",
    "pattern = re.compile(r'(\\b[A-Z]+|([A-Z]+.[A-Z]+))(\\:|\\s\\[.+\\]\\:)')"
   ]
  },
  {
   "cell_type": "code",
   "execution_count": 30,
   "metadata": {
    "collapsed": true
   },
   "outputs": [],
   "source": [
    "df = pd.DataFrame(columns=['character', 'ep_title', 'text'])"
   ]
  },
  {
   "cell_type": "code",
   "execution_count": null,
   "metadata": {
    "collapsed": true
   },
   "outputs": [],
   "source": [
    "# i also want a non-sentence tokenized dataframe. SORRY CHAKOTEYA\n",
    "# NOT DONE YET DONT RUN\n",
    "\n",
    "for #ep in many_soups:\n",
    "    \n",
    "    episode_title = ep.b.string\n",
    "    episode_title = episode_title.replace('\\r\\n', ' ')\n",
    "    \n",
    "    array_of_strings = []\n",
    "    \n",
    "    for string in ep.stripped_strings:\n",
    "        array_of_strings.append(string.replace('\\r\\n', ' '))\n",
    "        \n",
    "    clean_df = []\n",
    "    char_dict = {}\n",
    "\n",
    "    for string in array_of_strings:\n",
    "        found = re.search(pattern, string)\n",
    "        if found is not None:\n",
    "            stripped_string = string.replace(found.group(0), '').strip()\n",
    "            #stripped_string_tokenized = sent_tokenizer(stripped_string)\n",
    "\n",
    "            key = found.group(1)\n",
    "\n",
    "            clean_df\n",
    "            \n",
    "            for each in stripped_string_tokenized:\n",
    "                    clean_df.append(each)\n",
    "                    char_dict.setdefault(key, []).append(each)\n",
    "    \n",
    "    for key in char_dict:\n",
    "        temp_df = pd.DataFrame(char_dict[key], columns=['text'])\n",
    "        temp_df['character'] = key\n",
    "        temp_df['ep_title'] = episode_title\n",
    "        df = df.append(temp_df)"
   ]
  },
  {
   "cell_type": "code",
   "execution_count": 31,
   "metadata": {
    "collapsed": true
   },
   "outputs": [],
   "source": [
    "for ep in many_soups:\n",
    "    \n",
    "    episode_title = ep.b.string\n",
    "    episode_title = episode_title.replace('\\r\\n', ' ')\n",
    "    \n",
    "    array_of_strings = []\n",
    "    \n",
    "    for string in ep.stripped_strings:\n",
    "        array_of_strings.append(string.replace('\\r\\n', ' '))\n",
    "        \n",
    "    clean_df = []\n",
    "    char_dict = {}\n",
    "\n",
    "    for string in array_of_strings:\n",
    "        found = re.search(pattern, string)\n",
    "        if found is not None:\n",
    "            stripped_string = string.replace(found.group(0), '').strip()\n",
    "            stripped_string_tokenized = sent_tokenizer(stripped_string)\n",
    "\n",
    "            key = found.group(1)\n",
    "\n",
    "            for each in stripped_string_tokenized:\n",
    "                    clean_df.append(each)\n",
    "                    char_dict.setdefault(key, []).append(each)\n",
    "    \n",
    "    for key in char_dict:\n",
    "        temp_df = pd.DataFrame(char_dict[key], columns=['text'])\n",
    "        temp_df['character'] = key\n",
    "        temp_df['ep_title'] = episode_title\n",
    "        df = df.append(temp_df)"
   ]
  },
  {
   "cell_type": "code",
   "execution_count": 38,
   "metadata": {
    "collapsed": true
   },
   "outputs": [],
   "source": [
    "df.to_csv('dataframe_all_ds9.csv', index=False)"
   ]
  },
  {
   "cell_type": "code",
   "execution_count": 39,
   "metadata": {
    "collapsed": true
   },
   "outputs": [],
   "source": [
    "df_test = pd.read_csv('dataframe_all_ds9.csv')"
   ]
  },
  {
   "cell_type": "code",
   "execution_count": 41,
   "metadata": {
    "scrolled": true
   },
   "outputs": [
    {
     "data": {
      "text/html": [
       "<div>\n",
       "<style>\n",
       "    .dataframe thead tr:only-child th {\n",
       "        text-align: right;\n",
       "    }\n",
       "\n",
       "    .dataframe thead th {\n",
       "        text-align: left;\n",
       "    }\n",
       "\n",
       "    .dataframe tbody tr th {\n",
       "        vertical-align: top;\n",
       "    }\n",
       "</style>\n",
       "<table border=\"1\" class=\"dataframe\">\n",
       "  <thead>\n",
       "    <tr style=\"text-align: right;\">\n",
       "      <th></th>\n",
       "      <th>character</th>\n",
       "      <th>ep_title</th>\n",
       "      <th>text</th>\n",
       "    </tr>\n",
       "  </thead>\n",
       "  <tbody>\n",
       "    <tr>\n",
       "      <th>114482</th>\n",
       "      <td>EKOOR</td>\n",
       "      <td>What You Leave Behind</td>\n",
       "      <td>For Cardassia!</td>\n",
       "    </tr>\n",
       "    <tr>\n",
       "      <th>114483</th>\n",
       "      <td>EKOOR</td>\n",
       "      <td>What You Leave Behind</td>\n",
       "      <td>The Federation fleet has surrounded the planet.</td>\n",
       "    </tr>\n",
       "    <tr>\n",
       "      <th>114484</th>\n",
       "      <td>CARDASSIAN</td>\n",
       "      <td>What You Leave Behind</td>\n",
       "      <td>We're with you!</td>\n",
       "    </tr>\n",
       "    <tr>\n",
       "      <th>114485</th>\n",
       "      <td>CARDASSIANS</td>\n",
       "      <td>What You Leave Behind</td>\n",
       "      <td>For Cardassia!</td>\n",
       "    </tr>\n",
       "    <tr>\n",
       "      <th>114486</th>\n",
       "      <td>CARDASSIANS</td>\n",
       "      <td>What You Leave Behind</td>\n",
       "      <td>For Cardassia!</td>\n",
       "    </tr>\n",
       "  </tbody>\n",
       "</table>\n",
       "</div>"
      ],
      "text/plain": [
       "          character               ep_title  \\\n",
       "114482        EKOOR  What You Leave Behind   \n",
       "114483        EKOOR  What You Leave Behind   \n",
       "114484   CARDASSIAN  What You Leave Behind   \n",
       "114485  CARDASSIANS  What You Leave Behind   \n",
       "114486  CARDASSIANS  What You Leave Behind   \n",
       "\n",
       "                                                   text  \n",
       "114482                                   For Cardassia!  \n",
       "114483  The Federation fleet has surrounded the planet.  \n",
       "114484                                  We're with you!  \n",
       "114485                                   For Cardassia!  \n",
       "114486                                   For Cardassia!  "
      ]
     },
     "execution_count": 41,
     "metadata": {},
     "output_type": "execute_result"
    }
   ],
   "source": [
    "df_test.tail()"
   ]
  },
  {
   "cell_type": "code",
   "execution_count": null,
   "metadata": {
    "collapsed": true
   },
   "outputs": [],
   "source": []
  }
 ],
 "metadata": {
  "kernelspec": {
   "display_name": "Python 3",
   "language": "python",
   "name": "python3"
  },
  "language_info": {
   "codemirror_mode": {
    "name": "ipython",
    "version": 3
   },
   "file_extension": ".py",
   "mimetype": "text/x-python",
   "name": "python",
   "nbconvert_exporter": "python",
   "pygments_lexer": "ipython3",
   "version": "3.6.1"
  }
 },
 "nbformat": 4,
 "nbformat_minor": 2
}
